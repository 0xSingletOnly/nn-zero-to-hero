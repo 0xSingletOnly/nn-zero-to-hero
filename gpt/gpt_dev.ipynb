{
  "cells": [
    {
      "cell_type": "markdown",
      "metadata": {
        "id": "wJpXpmjEYC_T"
      },
      "source": [
        "## Building a GPT\n",
        "\n",
        "Companion notebook to the [Zero To Hero](https://karpathy.ai/zero-to-hero.html) video on GPT."
      ]
    },
    {
      "cell_type": "code",
      "execution_count": 2,
      "metadata": {
        "colab": {
          "base_uri": "https://localhost:8080/"
        },
        "id": "h5hjCcLDr2WC",
        "outputId": "ccc60f0c-fd78-4dbe-8598-0512d1036aad"
      },
      "outputs": [
        {
          "name": "stdout",
          "output_type": "stream",
          "text": [
            "--2024-09-04 18:39:53--  https://raw.githubusercontent.com/karpathy/char-rnn/master/data/tinyshakespeare/input.txt\n",
            "Resolving raw.githubusercontent.com (raw.githubusercontent.com)... 185.199.110.133, 185.199.111.133, 185.199.108.133, ...\n",
            "Connecting to raw.githubusercontent.com (raw.githubusercontent.com)|185.199.110.133|:443... connected.\n",
            "HTTP request sent, awaiting response... 200 OK\n",
            "Length: 1115394 (1.1M) [text/plain]\n",
            "Saving to: ‘input.txt’\n",
            "\n",
            "input.txt           100%[===================>]   1.06M  --.-KB/s    in 0.07s   \n",
            "\n",
            "2024-09-04 18:39:53 (15.8 MB/s) - ‘input.txt’ saved [1115394/1115394]\n",
            "\n"
          ]
        }
      ],
      "source": [
        "# We always start with a dataset to train on. Let's download the tiny shakespeare dataset\n",
        "!wget https://raw.githubusercontent.com/karpathy/char-rnn/master/data/tinyshakespeare/input.txt"
      ]
    },
    {
      "cell_type": "code",
      "execution_count": 97,
      "metadata": {
        "id": "O6medjfRsLD9"
      },
      "outputs": [],
      "source": [
        "# read it in to inspect it\n",
        "with open('input.txt', 'r', encoding='utf-8') as f:\n",
        "    text = f.read()"
      ]
    },
    {
      "cell_type": "code",
      "execution_count": 98,
      "metadata": {
        "colab": {
          "base_uri": "https://localhost:8080/"
        },
        "id": "6xWI_VyAsN8F",
        "outputId": "ed819dd0-72e5-40a6-d2ed-928ff73bfda6"
      },
      "outputs": [
        {
          "name": "stdout",
          "output_type": "stream",
          "text": [
            "length of dataset in characters:  1115394\n"
          ]
        }
      ],
      "source": [
        "print(\"length of dataset in characters: \", len(text))"
      ]
    },
    {
      "cell_type": "code",
      "execution_count": 99,
      "metadata": {
        "colab": {
          "base_uri": "https://localhost:8080/"
        },
        "id": "2c5V0FvqseE0",
        "outputId": "25ca7adc-b8c0-42d1-b08c-e0863c5c314e"
      },
      "outputs": [
        {
          "name": "stdout",
          "output_type": "stream",
          "text": [
            "First Citizen:\n",
            "Before we proceed any further, hear me speak.\n",
            "\n",
            "All:\n",
            "Speak, speak.\n",
            "\n",
            "First Citizen:\n",
            "You are all resolved rather to die than to famish?\n",
            "\n",
            "All:\n",
            "Resolved. resolved.\n",
            "\n",
            "First Citizen:\n",
            "First, you know Caius Marcius is chief enemy to the people.\n",
            "\n",
            "All:\n",
            "We know't, we know't.\n",
            "\n",
            "First Citizen:\n",
            "Let us kill him, and we'll have corn at our own price.\n",
            "Is't a verdict?\n",
            "\n",
            "All:\n",
            "No more talking on't; let it be done: away, away!\n",
            "\n",
            "Second Citizen:\n",
            "One word, good citizens.\n",
            "\n",
            "First Citizen:\n",
            "We are accounted poor citizens, the patricians good.\n",
            "What authority surfeits on would relieve us: if they\n",
            "would yield us but the superfluity, while it were\n",
            "wholesome, we might guess they relieved us humanely;\n",
            "but they think we are too dear: the leanness that\n",
            "afflicts us, the object of our misery, is as an\n",
            "inventory to particularise their abundance; our\n",
            "sufferance is a gain to them Let us revenge this with\n",
            "our pikes, ere we become rakes: for the gods know I\n",
            "speak this in hunger for bread, not in thirst for revenge.\n",
            "\n",
            "\n"
          ]
        }
      ],
      "source": [
        "# let's look at the first 1000 characters\n",
        "print(text[:1000])"
      ]
    },
    {
      "cell_type": "code",
      "execution_count": 100,
      "metadata": {
        "colab": {
          "base_uri": "https://localhost:8080/"
        },
        "id": "0e-Rbyr8sfM8",
        "outputId": "f34e94a9-5b44-4cf3-885b-986731929109"
      },
      "outputs": [
        {
          "name": "stdout",
          "output_type": "stream",
          "text": [
            "\n",
            " !$&',-.3:;?ABCDEFGHIJKLMNOPQRSTUVWXYZabcdefghijklmnopqrstuvwxyz\n",
            "65\n"
          ]
        }
      ],
      "source": [
        "# here are all the unique characters that occur in this text\n",
        "chars = sorted(list(set(text)))\n",
        "vocab_size = len(chars)\n",
        "print(''.join(chars))\n",
        "print(vocab_size)"
      ]
    },
    {
      "cell_type": "code",
      "execution_count": 101,
      "metadata": {
        "colab": {
          "base_uri": "https://localhost:8080/"
        },
        "id": "Yw1LKNCgwjj1",
        "outputId": "86fcc21c-2cf7-40d9-cd7b-b5a253da4459"
      },
      "outputs": [
        {
          "name": "stdout",
          "output_type": "stream",
          "text": [
            "[46, 47, 47, 1, 58, 46, 43, 56, 43]\n",
            "hii there\n"
          ]
        }
      ],
      "source": [
        "# create a mapping from characters to integers\n",
        "stoi = { ch:i for i,ch in enumerate(chars) }\n",
        "itos = { i:ch for i,ch in enumerate(chars) }\n",
        "encode = lambda s: [stoi[c] for c in s] # encoder: take a string, output a list of integers\n",
        "decode = lambda l: ''.join([itos[i] for i in l]) # decoder: take a list of integers, output a string\n",
        "\n",
        "print(encode(\"hii there\"))\n",
        "print(decode(encode(\"hii there\")))"
      ]
    },
    {
      "cell_type": "code",
      "execution_count": 102,
      "metadata": {
        "colab": {
          "base_uri": "https://localhost:8080/"
        },
        "id": "YJb0OXPwzvqg",
        "outputId": "db7297cc-36a9-4fae-e941-e7bb9e0e91d1"
      },
      "outputs": [
        {
          "name": "stdout",
          "output_type": "stream",
          "text": [
            "torch.Size([1115394]) torch.int64\n",
            "tensor([18, 47, 56, 57, 58,  1, 15, 47, 58, 47, 64, 43, 52, 10,  0, 14, 43, 44,\n",
            "        53, 56, 43,  1, 61, 43,  1, 54, 56, 53, 41, 43, 43, 42,  1, 39, 52, 63,\n",
            "         1, 44, 59, 56, 58, 46, 43, 56,  6,  1, 46, 43, 39, 56,  1, 51, 43,  1,\n",
            "        57, 54, 43, 39, 49,  8,  0,  0, 13, 50, 50, 10,  0, 31, 54, 43, 39, 49,\n",
            "         6,  1, 57, 54, 43, 39, 49,  8,  0,  0, 18, 47, 56, 57, 58,  1, 15, 47,\n",
            "        58, 47, 64, 43, 52, 10,  0, 37, 53, 59,  1, 39, 56, 43,  1, 39, 50, 50,\n",
            "         1, 56, 43, 57, 53, 50, 60, 43, 42,  1, 56, 39, 58, 46, 43, 56,  1, 58,\n",
            "        53,  1, 42, 47, 43,  1, 58, 46, 39, 52,  1, 58, 53,  1, 44, 39, 51, 47,\n",
            "        57, 46, 12,  0,  0, 13, 50, 50, 10,  0, 30, 43, 57, 53, 50, 60, 43, 42,\n",
            "         8,  1, 56, 43, 57, 53, 50, 60, 43, 42,  8,  0,  0, 18, 47, 56, 57, 58,\n",
            "         1, 15, 47, 58, 47, 64, 43, 52, 10,  0, 18, 47, 56, 57, 58,  6,  1, 63,\n",
            "        53, 59,  1, 49, 52, 53, 61,  1, 15, 39, 47, 59, 57,  1, 25, 39, 56, 41,\n",
            "        47, 59, 57,  1, 47, 57,  1, 41, 46, 47, 43, 44,  1, 43, 52, 43, 51, 63,\n",
            "         1, 58, 53,  1, 58, 46, 43,  1, 54, 43, 53, 54, 50, 43,  8,  0,  0, 13,\n",
            "        50, 50, 10,  0, 35, 43,  1, 49, 52, 53, 61,  5, 58,  6,  1, 61, 43,  1,\n",
            "        49, 52, 53, 61,  5, 58,  8,  0,  0, 18, 47, 56, 57, 58,  1, 15, 47, 58,\n",
            "        47, 64, 43, 52, 10,  0, 24, 43, 58,  1, 59, 57,  1, 49, 47, 50, 50,  1,\n",
            "        46, 47, 51,  6,  1, 39, 52, 42,  1, 61, 43,  5, 50, 50,  1, 46, 39, 60,\n",
            "        43,  1, 41, 53, 56, 52,  1, 39, 58,  1, 53, 59, 56,  1, 53, 61, 52,  1,\n",
            "        54, 56, 47, 41, 43,  8,  0, 21, 57,  5, 58,  1, 39,  1, 60, 43, 56, 42,\n",
            "        47, 41, 58, 12,  0,  0, 13, 50, 50, 10,  0, 26, 53,  1, 51, 53, 56, 43,\n",
            "         1, 58, 39, 50, 49, 47, 52, 45,  1, 53, 52,  5, 58, 11,  1, 50, 43, 58,\n",
            "         1, 47, 58,  1, 40, 43,  1, 42, 53, 52, 43, 10,  1, 39, 61, 39, 63,  6,\n",
            "         1, 39, 61, 39, 63,  2,  0,  0, 31, 43, 41, 53, 52, 42,  1, 15, 47, 58,\n",
            "        47, 64, 43, 52, 10,  0, 27, 52, 43,  1, 61, 53, 56, 42,  6,  1, 45, 53,\n",
            "        53, 42,  1, 41, 47, 58, 47, 64, 43, 52, 57,  8,  0,  0, 18, 47, 56, 57,\n",
            "        58,  1, 15, 47, 58, 47, 64, 43, 52, 10,  0, 35, 43,  1, 39, 56, 43,  1,\n",
            "        39, 41, 41, 53, 59, 52, 58, 43, 42,  1, 54, 53, 53, 56,  1, 41, 47, 58,\n",
            "        47, 64, 43, 52, 57,  6,  1, 58, 46, 43,  1, 54, 39, 58, 56, 47, 41, 47,\n",
            "        39, 52, 57,  1, 45, 53, 53, 42,  8,  0, 35, 46, 39, 58,  1, 39, 59, 58,\n",
            "        46, 53, 56, 47, 58, 63,  1, 57, 59, 56, 44, 43, 47, 58, 57,  1, 53, 52,\n",
            "         1, 61, 53, 59, 50, 42,  1, 56, 43, 50, 47, 43, 60, 43,  1, 59, 57, 10,\n",
            "         1, 47, 44,  1, 58, 46, 43, 63,  0, 61, 53, 59, 50, 42,  1, 63, 47, 43,\n",
            "        50, 42,  1, 59, 57,  1, 40, 59, 58,  1, 58, 46, 43,  1, 57, 59, 54, 43,\n",
            "        56, 44, 50, 59, 47, 58, 63,  6,  1, 61, 46, 47, 50, 43,  1, 47, 58,  1,\n",
            "        61, 43, 56, 43,  0, 61, 46, 53, 50, 43, 57, 53, 51, 43,  6,  1, 61, 43,\n",
            "         1, 51, 47, 45, 46, 58,  1, 45, 59, 43, 57, 57,  1, 58, 46, 43, 63,  1,\n",
            "        56, 43, 50, 47, 43, 60, 43, 42,  1, 59, 57,  1, 46, 59, 51, 39, 52, 43,\n",
            "        50, 63, 11,  0, 40, 59, 58,  1, 58, 46, 43, 63,  1, 58, 46, 47, 52, 49,\n",
            "         1, 61, 43,  1, 39, 56, 43,  1, 58, 53, 53,  1, 42, 43, 39, 56, 10,  1,\n",
            "        58, 46, 43,  1, 50, 43, 39, 52, 52, 43, 57, 57,  1, 58, 46, 39, 58,  0,\n",
            "        39, 44, 44, 50, 47, 41, 58, 57,  1, 59, 57,  6,  1, 58, 46, 43,  1, 53,\n",
            "        40, 48, 43, 41, 58,  1, 53, 44,  1, 53, 59, 56,  1, 51, 47, 57, 43, 56,\n",
            "        63,  6,  1, 47, 57,  1, 39, 57,  1, 39, 52,  0, 47, 52, 60, 43, 52, 58,\n",
            "        53, 56, 63,  1, 58, 53,  1, 54, 39, 56, 58, 47, 41, 59, 50, 39, 56, 47,\n",
            "        57, 43,  1, 58, 46, 43, 47, 56,  1, 39, 40, 59, 52, 42, 39, 52, 41, 43,\n",
            "        11,  1, 53, 59, 56,  0, 57, 59, 44, 44, 43, 56, 39, 52, 41, 43,  1, 47,\n",
            "        57,  1, 39,  1, 45, 39, 47, 52,  1, 58, 53,  1, 58, 46, 43, 51,  1, 24,\n",
            "        43, 58,  1, 59, 57,  1, 56, 43, 60, 43, 52, 45, 43,  1, 58, 46, 47, 57,\n",
            "         1, 61, 47, 58, 46,  0, 53, 59, 56,  1, 54, 47, 49, 43, 57,  6,  1, 43,\n",
            "        56, 43,  1, 61, 43,  1, 40, 43, 41, 53, 51, 43,  1, 56, 39, 49, 43, 57,\n",
            "        10,  1, 44, 53, 56,  1, 58, 46, 43,  1, 45, 53, 42, 57,  1, 49, 52, 53,\n",
            "        61,  1, 21,  0, 57, 54, 43, 39, 49,  1, 58, 46, 47, 57,  1, 47, 52,  1,\n",
            "        46, 59, 52, 45, 43, 56,  1, 44, 53, 56,  1, 40, 56, 43, 39, 42,  6,  1,\n",
            "        52, 53, 58,  1, 47, 52,  1, 58, 46, 47, 56, 57, 58,  1, 44, 53, 56,  1,\n",
            "        56, 43, 60, 43, 52, 45, 43,  8,  0,  0])\n"
          ]
        }
      ],
      "source": [
        "# let's now encode the entire text dataset and store it into a torch.Tensor\n",
        "import torch # we use PyTorch: https://pytorch.org\n",
        "data = torch.tensor(encode(text), dtype=torch.long)\n",
        "print(data.shape, data.dtype)\n",
        "print(data[:1000]) # the 1000 characters we looked at earier will to the GPT look like this"
      ]
    },
    {
      "cell_type": "code",
      "execution_count": 103,
      "metadata": {
        "id": "f_WIXqxz0lU5"
      },
      "outputs": [],
      "source": [
        "# Let's now split up the data into train and validation sets\n",
        "n = int(0.9*len(data)) # first 90% will be train, rest val\n",
        "train_data = data[:n]\n",
        "val_data = data[n:]"
      ]
    },
    {
      "cell_type": "code",
      "execution_count": 104,
      "metadata": {
        "colab": {
          "base_uri": "https://localhost:8080/"
        },
        "id": "TD5Bj8Y6IAD4",
        "outputId": "bf23c586-1d33-4af1-b63d-ce6f90b0a528"
      },
      "outputs": [
        {
          "data": {
            "text/plain": [
              "tensor([18, 47, 56, 57, 58,  1, 15, 47, 58])"
            ]
          },
          "execution_count": 104,
          "metadata": {},
          "output_type": "execute_result"
        }
      ],
      "source": [
        "block_size = 8\n",
        "train_data[:block_size+1]"
      ]
    },
    {
      "cell_type": "code",
      "execution_count": 105,
      "metadata": {
        "colab": {
          "base_uri": "https://localhost:8080/"
        },
        "id": "9HXDe8vGJCEn",
        "outputId": "588663aa-1de5-4ef7-aba0-4a96fe828353"
      },
      "outputs": [
        {
          "name": "stdout",
          "output_type": "stream",
          "text": [
            "when input is tensor([18]) the target: 47\n",
            "when input is tensor([18, 47]) the target: 56\n",
            "when input is tensor([18, 47, 56]) the target: 57\n",
            "when input is tensor([18, 47, 56, 57]) the target: 58\n",
            "when input is tensor([18, 47, 56, 57, 58]) the target: 1\n",
            "when input is tensor([18, 47, 56, 57, 58,  1]) the target: 15\n",
            "when input is tensor([18, 47, 56, 57, 58,  1, 15]) the target: 47\n",
            "when input is tensor([18, 47, 56, 57, 58,  1, 15, 47]) the target: 58\n"
          ]
        }
      ],
      "source": [
        "x = train_data[:block_size]\n",
        "y = train_data[1:block_size+1]\n",
        "for t in range(block_size):\n",
        "    context = x[:t+1]\n",
        "    target = y[t]\n",
        "    print(f\"when input is {context} the target: {target}\")"
      ]
    },
    {
      "cell_type": "code",
      "execution_count": 106,
      "metadata": {
        "colab": {
          "base_uri": "https://localhost:8080/"
        },
        "id": "Q3k1Czf7LuA9",
        "outputId": "4ea8e8a0-443c-49bb-b3bf-ba36e1712999"
      },
      "outputs": [
        {
          "name": "stdout",
          "output_type": "stream",
          "text": [
            "inputs:\n",
            "torch.Size([4, 8])\n",
            "tensor([[24, 43, 58,  5, 57,  1, 46, 43],\n",
            "        [44, 53, 56,  1, 58, 46, 39, 58],\n",
            "        [52, 58,  1, 58, 46, 39, 58,  1],\n",
            "        [25, 17, 27, 10,  0, 21,  1, 54]])\n",
            "targets:\n",
            "torch.Size([4, 8])\n",
            "tensor([[43, 58,  5, 57,  1, 46, 43, 39],\n",
            "        [53, 56,  1, 58, 46, 39, 58,  1],\n",
            "        [58,  1, 58, 46, 39, 58,  1, 46],\n",
            "        [17, 27, 10,  0, 21,  1, 54, 39]])\n",
            "----\n",
            "when input is [24] the target: 43\n",
            "when input is [24, 43] the target: 58\n",
            "when input is [24, 43, 58] the target: 5\n",
            "when input is [24, 43, 58, 5] the target: 57\n",
            "when input is [24, 43, 58, 5, 57] the target: 1\n",
            "when input is [24, 43, 58, 5, 57, 1] the target: 46\n",
            "when input is [24, 43, 58, 5, 57, 1, 46] the target: 43\n",
            "when input is [24, 43, 58, 5, 57, 1, 46, 43] the target: 39\n",
            "when input is [44] the target: 53\n",
            "when input is [44, 53] the target: 56\n",
            "when input is [44, 53, 56] the target: 1\n",
            "when input is [44, 53, 56, 1] the target: 58\n",
            "when input is [44, 53, 56, 1, 58] the target: 46\n",
            "when input is [44, 53, 56, 1, 58, 46] the target: 39\n",
            "when input is [44, 53, 56, 1, 58, 46, 39] the target: 58\n",
            "when input is [44, 53, 56, 1, 58, 46, 39, 58] the target: 1\n",
            "when input is [52] the target: 58\n",
            "when input is [52, 58] the target: 1\n",
            "when input is [52, 58, 1] the target: 58\n",
            "when input is [52, 58, 1, 58] the target: 46\n",
            "when input is [52, 58, 1, 58, 46] the target: 39\n",
            "when input is [52, 58, 1, 58, 46, 39] the target: 58\n",
            "when input is [52, 58, 1, 58, 46, 39, 58] the target: 1\n",
            "when input is [52, 58, 1, 58, 46, 39, 58, 1] the target: 46\n",
            "when input is [25] the target: 17\n",
            "when input is [25, 17] the target: 27\n",
            "when input is [25, 17, 27] the target: 10\n",
            "when input is [25, 17, 27, 10] the target: 0\n",
            "when input is [25, 17, 27, 10, 0] the target: 21\n",
            "when input is [25, 17, 27, 10, 0, 21] the target: 1\n",
            "when input is [25, 17, 27, 10, 0, 21, 1] the target: 54\n",
            "when input is [25, 17, 27, 10, 0, 21, 1, 54] the target: 39\n"
          ]
        }
      ],
      "source": [
        "torch.manual_seed(1337)\n",
        "batch_size = 4 # how many independent sequences will we process in parallel?\n",
        "block_size = 8 # what is the maximum context length for predictions?\n",
        "\n",
        "def get_batch(split):\n",
        "    # generate a small batch of data of inputs x and targets y\n",
        "    data = train_data if split == 'train' else val_data\n",
        "    ix = torch.randint(len(data) - block_size, (batch_size,))\n",
        "    x = torch.stack([data[i:i+block_size] for i in ix])\n",
        "    y = torch.stack([data[i+1:i+block_size+1] for i in ix])\n",
        "    return x, y\n",
        "\n",
        "xb, yb = get_batch('train')\n",
        "print('inputs:')\n",
        "print(xb.shape)\n",
        "print(xb)\n",
        "print('targets:')\n",
        "print(yb.shape)\n",
        "print(yb)\n",
        "\n",
        "print('----')\n",
        "\n",
        "for b in range(batch_size): # batch dimension\n",
        "    for t in range(block_size): # time dimension\n",
        "        context = xb[b, :t+1]\n",
        "        target = yb[b,t]\n",
        "        print(f\"when input is {context.tolist()} the target: {target}\")"
      ]
    },
    {
      "cell_type": "code",
      "execution_count": 107,
      "metadata": {
        "colab": {
          "base_uri": "https://localhost:8080/"
        },
        "id": "qpyyAeIzQjlO",
        "outputId": "a650f8dc-da81-400b-bc59-0a595487fdb9"
      },
      "outputs": [
        {
          "name": "stdout",
          "output_type": "stream",
          "text": [
            "tensor([[24, 43, 58,  5, 57,  1, 46, 43],\n",
            "        [44, 53, 56,  1, 58, 46, 39, 58],\n",
            "        [52, 58,  1, 58, 46, 39, 58,  1],\n",
            "        [25, 17, 27, 10,  0, 21,  1, 54]])\n"
          ]
        }
      ],
      "source": [
        "print(xb) # our input to the transformer"
      ]
    },
    {
      "cell_type": "code",
      "execution_count": 108,
      "metadata": {
        "colab": {
          "base_uri": "https://localhost:8080/"
        },
        "id": "nql_1ER53oCf",
        "outputId": "5de90b1b-4603-428a-f571-fe4bd3c45436"
      },
      "outputs": [
        {
          "name": "stdout",
          "output_type": "stream",
          "text": [
            "torch.Size([32, 65])\n",
            "tensor(4.8786, grad_fn=<NllLossBackward0>)\n",
            "\n",
            "SKIcLT;AcELMoTbvZv C?nq-QE33:CJqkOKH-q;:la!oiywkHjgChzbQ?u!3bLIgwevmyFJGUGp\n",
            "wnYWmnxKWWev-tDqXErVKLgJ\n"
          ]
        }
      ],
      "source": [
        "import torch\n",
        "import torch.nn as nn\n",
        "from torch.nn import functional as F\n",
        "torch.manual_seed(1337)\n",
        "\n",
        "class BigramLanguageModel(nn.Module):\n",
        "\n",
        "    def __init__(self, vocab_size):\n",
        "        super().__init__()\n",
        "        # each token directly reads off the logits for the next token from a lookup table\n",
        "        self.token_embedding_table = nn.Embedding(vocab_size, vocab_size)\n",
        "\n",
        "    def forward(self, idx, targets=None):\n",
        "\n",
        "        # idx and targets are both (B,T) tensor of integers\n",
        "        logits = self.token_embedding_table(idx) # (B,T,C)\n",
        "\n",
        "        if targets is None:\n",
        "            loss = None\n",
        "        else:\n",
        "            B, T, C = logits.shape\n",
        "            logits = logits.view(B*T, C)\n",
        "            targets = targets.view(B*T)\n",
        "            loss = F.cross_entropy(logits, targets)\n",
        "\n",
        "        return logits, loss\n",
        "\n",
        "    def generate(self, idx, max_new_tokens):\n",
        "        # idx is (B, T) array of indices in the current context\n",
        "        for _ in range(max_new_tokens):\n",
        "            # get the predictions\n",
        "            logits, loss = self(idx)\n",
        "            # focus only on the last time step\n",
        "            logits = logits[:, -1, :] # becomes (B, C)\n",
        "            # apply softmax to get probabilities\n",
        "            probs = F.softmax(logits, dim=-1) # (B, C)\n",
        "            # sample from the distribution\n",
        "            idx_next = torch.multinomial(probs, num_samples=1) # (B, 1)\n",
        "            # append sampled index to the running sequence\n",
        "            idx = torch.cat((idx, idx_next), dim=1) # (B, T+1)\n",
        "        return idx\n",
        "\n",
        "m = BigramLanguageModel(vocab_size)\n",
        "logits, loss = m(xb, yb)\n",
        "print(logits.shape)\n",
        "print(loss)\n",
        "\n",
        "print(decode(m.generate(idx = torch.zeros((1, 1), dtype=torch.long), max_new_tokens=100)[0].tolist()))\n"
      ]
    },
    {
      "cell_type": "code",
      "execution_count": 109,
      "metadata": {
        "id": "eTyJ8qAaDdiF"
      },
      "outputs": [],
      "source": [
        "# create a PyTorch optimizer\n",
        "optimizer = torch.optim.AdamW(m.parameters(), lr=1e-3)"
      ]
    },
    {
      "cell_type": "code",
      "execution_count": 110,
      "metadata": {
        "colab": {
          "base_uri": "https://localhost:8080/"
        },
        "id": "Hs4kI8YdEkQj",
        "outputId": "42ded55c-2983-4d91-c528-675b2edfa849"
      },
      "outputs": [
        {
          "name": "stdout",
          "output_type": "stream",
          "text": [
            "4.65630578994751\n"
          ]
        }
      ],
      "source": [
        "batch_size = 32\n",
        "for steps in range(100): # increase number of steps for good results...\n",
        "\n",
        "    # sample a batch of data\n",
        "    xb, yb = get_batch('train')\n",
        "\n",
        "    # evaluate the loss\n",
        "    logits, loss = m(xb, yb)\n",
        "    optimizer.zero_grad(set_to_none=True)\n",
        "    loss.backward()\n",
        "    optimizer.step()\n",
        "\n",
        "print(loss.item())\n"
      ]
    },
    {
      "cell_type": "code",
      "execution_count": 17,
      "metadata": {
        "colab": {
          "base_uri": "https://localhost:8080/"
        },
        "id": "EcVIDWAZEtjN",
        "outputId": "0ad6f9d2-ad58-4498-a5f8-6f31407bb18b"
      },
      "outputs": [
        {
          "name": "stdout",
          "output_type": "stream",
          "text": [
            "\n",
            "oTo.JUZ!!zqe!\n",
            "xBP qbs$Gy'AcOmrLwwt\n",
            "p$x;Seh-onQbfM?OjKbn'NwUAW -Np3fkz$FVwAUEa-wzWC -wQo-R!v -Mj?,SPiTyZ;o-opr$mOiPJEYD-CfigkzD3p3?zvS;ADz;.y?o,ivCuC'zqHxcVT cHA\n",
            "rT'Fd,SBMZyOslg!NXeF$sBe,juUzLq?w-wzP-h\n",
            "ERjjxlgJzPbHxf$ q,q,KCDCU fqBOQT\n",
            "SV&CW:xSVwZv'DG'NSPypDhKStKzC -$hslxIVzoivnp ,ethA:NCCGoi\n",
            "tN!ljjP3fwJMwNelgUzzPGJlgihJ!d?q.d\n",
            "pSPYgCuCJrIFtb\n",
            "jQXg\n",
            "pA.P LP,SPJi\n",
            "DBcuBM:CixjJ$Jzkq,OLf3KLQLMGph$O 3DfiPHnXKuHMlyjxEiyZib3FaHV-oJa!zoc'XSP :CKGUhd?lgCOF$;;DTHZMlvvcmZAm;:iv'MMgO&Ywbc;BLCUd&vZINLIzkuTGZa\n",
            "D.?\n"
          ]
        }
      ],
      "source": [
        "print(decode(m.generate(idx = torch.zeros((1, 1), dtype=torch.long), max_new_tokens=500)[0].tolist()))"
      ]
    },
    {
      "cell_type": "markdown",
      "metadata": {
        "id": "XinV8nmAnmKN"
      },
      "source": [
        "## The mathematical trick in self-attention"
      ]
    },
    {
      "cell_type": "code",
      "execution_count": 111,
      "metadata": {
        "colab": {
          "base_uri": "https://localhost:8080/"
        },
        "id": "tukiH-NbRBhA",
        "outputId": "d981f6d4-ac08-4ec2-8284-82f5fa1e0815"
      },
      "outputs": [
        {
          "name": "stdout",
          "output_type": "stream",
          "text": [
            "a=\n",
            "tensor([[1.0000, 0.0000, 0.0000],\n",
            "        [0.5000, 0.5000, 0.0000],\n",
            "        [0.3333, 0.3333, 0.3333]])\n",
            "--\n",
            "b=\n",
            "tensor([[2., 7.],\n",
            "        [6., 4.],\n",
            "        [6., 5.]])\n",
            "--\n",
            "c=\n",
            "tensor([[2.0000, 7.0000],\n",
            "        [4.0000, 5.5000],\n",
            "        [4.6667, 5.3333]])\n"
          ]
        }
      ],
      "source": [
        "# toy example illustrating how matrix multiplication can be used for a \"weighted aggregation\"\n",
        "torch.manual_seed(42)\n",
        "a = torch.tril(torch.ones(3, 3))\n",
        "a = a / torch.sum(a, 1, keepdim=True)\n",
        "b = torch.randint(0,10,(3,2)).float()\n",
        "c = a @ b\n",
        "print('a=')\n",
        "print(a)\n",
        "print('--')\n",
        "print('b=')\n",
        "print(b)\n",
        "print('--')\n",
        "print('c=')\n",
        "print(c)"
      ]
    },
    {
      "cell_type": "code",
      "execution_count": 112,
      "metadata": {
        "colab": {
          "base_uri": "https://localhost:8080/"
        },
        "id": "Hs_E24uRE8kr",
        "outputId": "8bf3ff5f-565e-48b8-de8e-7272706c8e12"
      },
      "outputs": [
        {
          "data": {
            "text/plain": [
              "torch.Size([4, 8, 2])"
            ]
          },
          "execution_count": 112,
          "metadata": {},
          "output_type": "execute_result"
        }
      ],
      "source": [
        "# consider the following toy example:\n",
        "\n",
        "torch.manual_seed(1337)\n",
        "B,T,C = 4,8,2 # batch, time, channels\n",
        "x = torch.randn(B,T,C)\n",
        "x.shape"
      ]
    },
    {
      "cell_type": "code",
      "execution_count": 113,
      "metadata": {
        "id": "86NuXX0fn7ps"
      },
      "outputs": [],
      "source": [
        "# We want x[b,t] = mean_{i<=t} x[b,i]\n",
        "xbow = torch.zeros((B,T,C))\n",
        "for b in range(B):\n",
        "    for t in range(T):\n",
        "        xprev = x[b,:t+1] # (t,C)\n",
        "        xbow[b,t] = torch.mean(xprev, 0)\n"
      ]
    },
    {
      "cell_type": "code",
      "execution_count": 114,
      "metadata": {
        "colab": {
          "base_uri": "https://localhost:8080/"
        },
        "id": "yhdOAd6-wXkZ",
        "outputId": "eaf6ab61-dff1-4bb7-e623-47f692bad5f9"
      },
      "outputs": [
        {
          "data": {
            "text/plain": [
              "True"
            ]
          },
          "execution_count": 114,
          "metadata": {},
          "output_type": "execute_result"
        }
      ],
      "source": [
        "# version 2: using matrix multiply for a weighted aggregation\n",
        "wei = torch.tril(torch.ones(T, T))\n",
        "wei = wei / wei.sum(1, keepdim=True)\n",
        "xbow2 = wei @ x # (B, T, T) @ (B, T, C) ----> (B, T, C)\n",
        "torch.allclose(xbow, xbow2)"
      ]
    },
    {
      "cell_type": "code",
      "execution_count": 115,
      "metadata": {
        "colab": {
          "base_uri": "https://localhost:8080/"
        },
        "id": "wOURrfG-ysoL",
        "outputId": "080b500d-8110-4602-fcef-7d6f2ebfc6bc"
      },
      "outputs": [
        {
          "data": {
            "text/plain": [
              "True"
            ]
          },
          "execution_count": 115,
          "metadata": {},
          "output_type": "execute_result"
        }
      ],
      "source": [
        "# version 3: use Softmax\n",
        "tril = torch.tril(torch.ones(T, T))\n",
        "wei = torch.zeros((T,T))\n",
        "wei = wei.masked_fill(tril == 0, float('-inf'))\n",
        "wei = F.softmax(wei, dim=-1)\n",
        "xbow3 = wei @ x\n",
        "torch.allclose(xbow, xbow3)\n"
      ]
    },
    {
      "cell_type": "code",
      "execution_count": 116,
      "metadata": {
        "colab": {
          "base_uri": "https://localhost:8080/"
        },
        "id": "EDarxEWIRMKq",
        "outputId": "07b587dd-a91c-4bb0-d7f1-e247cd5dacb5"
      },
      "outputs": [
        {
          "data": {
            "text/plain": [
              "torch.Size([4, 8, 16])"
            ]
          },
          "execution_count": 116,
          "metadata": {},
          "output_type": "execute_result"
        }
      ],
      "source": [
        "# version 4: self-attention!\n",
        "torch.manual_seed(1337)\n",
        "B,T,C = 4,8,32 # batch, time, channels\n",
        "x = torch.randn(B,T,C)\n",
        "\n",
        "# let's see a single Head perform self-attention\n",
        "head_size = 16\n",
        "key = nn.Linear(C, head_size, bias=False)\n",
        "query = nn.Linear(C, head_size, bias=False)\n",
        "value = nn.Linear(C, head_size, bias=False)\n",
        "k = key(x)   # (B, T, 16)\n",
        "q = query(x) # (B, T, 16)\n",
        "wei =  q @ k.transpose(-2, -1) # (B, T, 16) @ (B, 16, T) ---> (B, T, T)\n",
        "\n",
        "tril = torch.tril(torch.ones(T, T))\n",
        "#wei = torch.zeros((T,T))\n",
        "wei = wei.masked_fill(tril == 0, float('-inf'))\n",
        "wei = F.softmax(wei, dim=-1)\n",
        "\n",
        "v = value(x)\n",
        "out = wei @ v\n",
        "#out = wei @ x\n",
        "\n",
        "out.shape"
      ]
    },
    {
      "cell_type": "code",
      "execution_count": 117,
      "metadata": {
        "colab": {
          "base_uri": "https://localhost:8080/"
        },
        "id": "vT1hdtzXCjgL",
        "outputId": "6d2c569b-7922-451f-9934-0fc564678d17"
      },
      "outputs": [
        {
          "data": {
            "text/plain": [
              "tensor([[1.0000, 0.0000, 0.0000, 0.0000, 0.0000, 0.0000, 0.0000, 0.0000],\n",
              "        [0.1574, 0.8426, 0.0000, 0.0000, 0.0000, 0.0000, 0.0000, 0.0000],\n",
              "        [0.2088, 0.1646, 0.6266, 0.0000, 0.0000, 0.0000, 0.0000, 0.0000],\n",
              "        [0.5792, 0.1187, 0.1889, 0.1131, 0.0000, 0.0000, 0.0000, 0.0000],\n",
              "        [0.0294, 0.1052, 0.0469, 0.0276, 0.7909, 0.0000, 0.0000, 0.0000],\n",
              "        [0.0176, 0.2689, 0.0215, 0.0089, 0.6812, 0.0019, 0.0000, 0.0000],\n",
              "        [0.1691, 0.4066, 0.0438, 0.0416, 0.1048, 0.2012, 0.0329, 0.0000],\n",
              "        [0.0210, 0.0843, 0.0555, 0.2297, 0.0573, 0.0709, 0.2423, 0.2391]],\n",
              "       grad_fn=<SelectBackward0>)"
            ]
          },
          "execution_count": 117,
          "metadata": {},
          "output_type": "execute_result"
        }
      ],
      "source": [
        "wei[0]"
      ]
    },
    {
      "cell_type": "code",
      "execution_count": 118,
      "metadata": {},
      "outputs": [
        {
          "name": "stdout",
          "output_type": "stream",
          "text": [
            "torch.Size([4, 8, 192])\n",
            "torch.Size([4, 8, 64])\n",
            "q shape: torch.Size([4, 4, 8, 16])\n",
            "torch.Size([4, 4, 16, 8])\n",
            "torch.Size([4, 4, 8, 8])\n"
          ]
        },
        {
          "data": {
            "text/plain": [
              "torch.Size([4, 8, 64])"
            ]
          },
          "execution_count": 118,
          "metadata": {},
          "output_type": "execute_result"
        }
      ],
      "source": [
        "# version 5: multi-head attention as a batch\n",
        "import math\n",
        "torch.manual_seed(1337)\n",
        "\n",
        "B,T,C = 4,8,64 # batch, time, channels\n",
        "x = torch.randn(B,T,C)\n",
        "\n",
        "n_head = 4\n",
        "n_embd = 64\n",
        "\n",
        "kqv = nn.Linear(n_embd, n_embd*3, bias=False)\n",
        "proj = nn.Linear(n_embd, n_embd)\n",
        "\n",
        "kqv_x = kqv(x) # B, T, n_embd*3\n",
        "print(kqv_x.shape)\n",
        "\n",
        "k, q, v = kqv_x.split(n_embd, dim=-1)\n",
        "print(k.shape)\n",
        "\n",
        "# reshape k, q, v to represent multiple heads\n",
        "k = k.view(B, T, n_head, n_embd//n_head).transpose(1, 2) # B, n_head, T, n_embd//n_head\n",
        "q = q.view(B, T, n_head, n_embd//n_head).transpose(1, 2) # B, n_head, T, n_embd//n_head\n",
        "v = v.view(B, T, n_head, n_embd//n_head).transpose(1, 2) # B, n_head, T, n_embd//n_head\n",
        "print(\"q shape:\", q.shape)\n",
        "\n",
        "# manual implementation of attention\n",
        "att = q @ k.transpose(-2, -1) / math.sqrt(n_embd//n_head)\n",
        "print(k.transpose(-2, -1).shape)\n",
        "print(att.shape) # 8 by 8 represents attention weights between each token\n",
        "att = F.softmax(att, dim=-1)\n",
        "y = att @ v # weighs attention by value (new representation of the inputs)\n",
        "y.shape\n",
        "\n",
        "y.transpose(1, 2).contiguous().view(B, T, C).shape"
      ]
    },
    {
      "cell_type": "markdown",
      "metadata": {
        "id": "M5CvobiQ0pLr"
      },
      "source": [
        "Notes:\n",
        "- Attention is a **communication mechanism**. Can be seen as nodes in a directed graph looking at each other and aggregating information with a weighted sum from all nodes that point to them, with data-dependent weights.\n",
        "- There is no notion of space. Attention simply acts over a set of vectors. This is why we need to positionally encode tokens.\n",
        "- Each example across batch dimension is of course processed completely independently and never \"talk\" to each other\n",
        "- In an \"encoder\" attention block just delete the single line that does masking with `tril`, allowing all tokens to communicate. This block here is called a \"decoder\" attention block because it has triangular masking, and is usually used in autoregressive settings, like language modeling.\n",
        "- \"self-attention\" just means that the keys and values are produced from the same source as queries. In \"cross-attention\", the queries still get produced from x, but the keys and values come from some other, external source (e.g. an encoder module)\n",
        "- \"Scaled\" attention additional divides `wei` by 1/sqrt(head_size). This makes it so when input Q,K are unit variance, wei will be unit variance too and Softmax will stay diffuse and not saturate too much. Illustration below"
      ]
    },
    {
      "cell_type": "code",
      "execution_count": 119,
      "metadata": {
        "id": "4SNbLq5z3oBw"
      },
      "outputs": [],
      "source": [
        "k = torch.randn(B,T,head_size)\n",
        "q = torch.randn(B,T,head_size)\n",
        "wei = q @ k.transpose(-2, -1) * head_size**-0.5"
      ]
    },
    {
      "cell_type": "code",
      "execution_count": 120,
      "metadata": {
        "colab": {
          "base_uri": "https://localhost:8080/"
        },
        "id": "Nl6I9n9IRTSo",
        "outputId": "0c5b9cd0-af8a-4564-fbad-41d844e54822"
      },
      "outputs": [
        {
          "data": {
            "text/plain": [
              "tensor(0.9387)"
            ]
          },
          "execution_count": 120,
          "metadata": {},
          "output_type": "execute_result"
        }
      ],
      "source": [
        "k.var()"
      ]
    },
    {
      "cell_type": "code",
      "execution_count": 121,
      "metadata": {
        "colab": {
          "base_uri": "https://localhost:8080/"
        },
        "id": "T1tQx7oeRvtc",
        "outputId": "3541ca1a-7447-4ef7-835e-81824aebc1b5"
      },
      "outputs": [
        {
          "data": {
            "text/plain": [
              "tensor(0.9245)"
            ]
          },
          "execution_count": 121,
          "metadata": {},
          "output_type": "execute_result"
        }
      ],
      "source": [
        "q.var()"
      ]
    },
    {
      "cell_type": "code",
      "execution_count": 122,
      "metadata": {
        "colab": {
          "base_uri": "https://localhost:8080/"
        },
        "id": "MLb_odHU3iKM",
        "outputId": "a687a222-5a2c-4cdb-c1bf-17cd05b45b69"
      },
      "outputs": [
        {
          "data": {
            "text/plain": [
              "tensor(0.9020)"
            ]
          },
          "execution_count": 122,
          "metadata": {},
          "output_type": "execute_result"
        }
      ],
      "source": [
        "wei.var()"
      ]
    },
    {
      "cell_type": "code",
      "execution_count": 123,
      "metadata": {
        "colab": {
          "base_uri": "https://localhost:8080/"
        },
        "id": "JB82yzt44REI",
        "outputId": "f07da2f1-10bb-4a7a-bcaa-578587977d00"
      },
      "outputs": [
        {
          "data": {
            "text/plain": [
              "tensor([0.1925, 0.1426, 0.2351, 0.1426, 0.2872])"
            ]
          },
          "execution_count": 123,
          "metadata": {},
          "output_type": "execute_result"
        }
      ],
      "source": [
        "torch.softmax(torch.tensor([0.1, -0.2, 0.3, -0.2, 0.5]), dim=-1)"
      ]
    },
    {
      "cell_type": "code",
      "execution_count": 124,
      "metadata": {
        "colab": {
          "base_uri": "https://localhost:8080/"
        },
        "id": "Mpt8569BB9_f",
        "outputId": "5d8b910a-6192-44ba-ebb2-497d88e0b629"
      },
      "outputs": [
        {
          "data": {
            "text/plain": [
              "tensor([0.0326, 0.0030, 0.1615, 0.0030, 0.8000])"
            ]
          },
          "execution_count": 124,
          "metadata": {},
          "output_type": "execute_result"
        }
      ],
      "source": [
        "torch.softmax(torch.tensor([0.1, -0.2, 0.3, -0.2, 0.5])*8, dim=-1) # gets too peaky, converges to one-hot"
      ]
    },
    {
      "cell_type": "code",
      "execution_count": 125,
      "metadata": {
        "colab": {
          "base_uri": "https://localhost:8080/"
        },
        "id": "2Num7sX9CKOH",
        "outputId": "929ceb78-a639-41d6-aac7-12997b5c93f0"
      },
      "outputs": [
        {
          "data": {
            "text/plain": [
              "torch.Size([32, 100])"
            ]
          },
          "execution_count": 125,
          "metadata": {},
          "output_type": "execute_result"
        }
      ],
      "source": [
        "class LayerNorm1d: # (used to be BatchNorm1d)\n",
        "\n",
        "  def __init__(self, dim, eps=1e-5, momentum=0.1):\n",
        "    self.eps = eps\n",
        "    self.gamma = torch.ones(dim)\n",
        "    self.beta = torch.zeros(dim)\n",
        "\n",
        "  def __call__(self, x):\n",
        "    # calculate the forward pass\n",
        "    xmean = x.mean(1, keepdim=True) # batch mean\n",
        "    xvar = x.var(1, keepdim=True) # batch variance\n",
        "    xhat = (x - xmean) / torch.sqrt(xvar + self.eps) # normalize to unit variance\n",
        "    self.out = self.gamma * xhat + self.beta\n",
        "    return self.out\n",
        "\n",
        "  def parameters(self):\n",
        "    return [self.gamma, self.beta]\n",
        "\n",
        "torch.manual_seed(1337)\n",
        "module = LayerNorm1d(100)\n",
        "x = torch.randn(32, 100) # batch size 32 of 100-dimensional vectors\n",
        "x = module(x)\n",
        "x.shape"
      ]
    },
    {
      "cell_type": "code",
      "execution_count": 126,
      "metadata": {
        "colab": {
          "base_uri": "https://localhost:8080/"
        },
        "id": "633T2cmnW1uk",
        "outputId": "7720fa58-0478-4e8a-86a7-502d4cce9443"
      },
      "outputs": [
        {
          "data": {
            "text/plain": [
              "(tensor(0.1469), tensor(0.8803))"
            ]
          },
          "execution_count": 126,
          "metadata": {},
          "output_type": "execute_result"
        }
      ],
      "source": [
        "x[:,0].mean(), x[:,0].std() # mean,std of one feature across all batch inputs"
      ]
    },
    {
      "cell_type": "code",
      "execution_count": 127,
      "metadata": {
        "colab": {
          "base_uri": "https://localhost:8080/"
        },
        "id": "LN9cK9BoXCYb",
        "outputId": "6368ece0-600e-417d-8a91-7c1e5d750ba8"
      },
      "outputs": [
        {
          "data": {
            "text/plain": [
              "(tensor(-3.5763e-09), tensor(1.0000))"
            ]
          },
          "execution_count": 127,
          "metadata": {},
          "output_type": "execute_result"
        }
      ],
      "source": [
        "x[0,:].mean(), x[0,:].std() # mean,std of a single input from the batch, of its features"
      ]
    },
    {
      "cell_type": "code",
      "execution_count": 128,
      "metadata": {
        "id": "dRJH6wM_XFfU"
      },
      "outputs": [],
      "source": [
        "# French to English translation example:\n",
        "\n",
        "# <--------- ENCODE ------------------><--------------- DECODE ----------------->\n",
        "# les réseaux de neurones sont géniaux! <START> neural networks are awesome!<END>\n",
        "\n"
      ]
    },
    {
      "cell_type": "markdown",
      "metadata": {
        "id": "ZcvKeBXoZFOY"
      },
      "source": [
        "### Full finished code, for reference\n",
        "\n",
        "You may want to refer directly to the git repo instead though."
      ]
    },
    {
      "cell_type": "code",
      "execution_count": 129,
      "metadata": {
        "colab": {
          "base_uri": "https://localhost:8080/"
        },
        "id": "hoelkOrFY8bN",
        "outputId": "961304cd-e379-40d4-dd56-8de0b91d2861"
      },
      "outputs": [
        {
          "name": "stdout",
          "output_type": "stream",
          "text": [
            "0.209729 M parameters\n",
            "step 0: train loss 4.4116, val loss 4.4022\n",
            "step 100: train loss 2.6568, val loss 2.6670\n",
            "step 200: train loss 2.5091, val loss 2.5058\n",
            "step 300: train loss 2.4197, val loss 2.4337\n",
            "step 400: train loss 2.3504, val loss 2.3567\n",
            "step 500: train loss 2.2965, val loss 2.3129\n",
            "step 600: train loss 2.2409, val loss 2.2497\n",
            "step 700: train loss 2.2057, val loss 2.2194\n",
            "step 800: train loss 2.1638, val loss 2.1867\n",
            "step 900: train loss 2.1246, val loss 2.1504\n",
            "step 1000: train loss 2.1030, val loss 2.1303\n",
            "step 1100: train loss 2.0704, val loss 2.1189\n",
            "step 1200: train loss 2.0387, val loss 2.0803\n",
            "step 1300: train loss 2.0254, val loss 2.0642\n",
            "step 1400: train loss 1.9937, val loss 2.0379\n",
            "step 1500: train loss 1.9705, val loss 2.0303\n",
            "step 1600: train loss 1.9630, val loss 2.0480\n",
            "step 1700: train loss 1.9418, val loss 2.0128\n",
            "step 1800: train loss 1.9094, val loss 1.9972\n",
            "step 1900: train loss 1.9088, val loss 1.9893\n",
            "step 2000: train loss 1.8847, val loss 1.9945\n",
            "step 2100: train loss 1.8702, val loss 1.9740\n",
            "step 2200: train loss 1.8579, val loss 1.9628\n",
            "step 2300: train loss 1.8540, val loss 1.9512\n",
            "step 2400: train loss 1.8415, val loss 1.9421\n",
            "step 2500: train loss 1.8146, val loss 1.9395\n",
            "step 2600: train loss 1.8267, val loss 1.9408\n",
            "step 2700: train loss 1.8130, val loss 1.9353\n",
            "step 2800: train loss 1.8046, val loss 1.9209\n",
            "step 2900: train loss 1.8018, val loss 1.9271\n",
            "step 3000: train loss 1.7995, val loss 1.9215\n",
            "step 3100: train loss 1.7677, val loss 1.9174\n",
            "step 3200: train loss 1.7540, val loss 1.9120\n",
            "step 3300: train loss 1.7574, val loss 1.9088\n",
            "step 3400: train loss 1.7542, val loss 1.8949\n",
            "step 3500: train loss 1.7352, val loss 1.8908\n",
            "step 3600: train loss 1.7251, val loss 1.8891\n",
            "step 3700: train loss 1.7275, val loss 1.8816\n",
            "step 3800: train loss 1.7201, val loss 1.8942\n",
            "step 3900: train loss 1.7201, val loss 1.8735\n",
            "step 4000: train loss 1.7135, val loss 1.8570\n",
            "step 4100: train loss 1.7144, val loss 1.8777\n",
            "step 4200: train loss 1.7027, val loss 1.8620\n",
            "step 4300: train loss 1.6997, val loss 1.8493\n",
            "step 4400: train loss 1.7036, val loss 1.8613\n",
            "step 4500: train loss 1.6895, val loss 1.8468\n",
            "step 4600: train loss 1.6886, val loss 1.8353\n",
            "step 4700: train loss 1.6840, val loss 1.8393\n",
            "step 4800: train loss 1.6662, val loss 1.8410\n",
            "step 4900: train loss 1.6707, val loss 1.8369\n",
            "step 4999: train loss 1.6667, val loss 1.8237\n",
            "\n",
            "Foast.\n",
            "\n",
            "MENEN EDWAPND:\n",
            "My loughtsine:\n",
            "You have my inext, near tomms, beary the devers.\n",
            "O, reath Lock, as tose proyance:\n",
            "Hat coubt, I will not fatcled the deyien, twoels.\n",
            "\n",
            "VIRGILLA:\n",
            "You strelitt's sirrue. To gon live;\n",
            "I mis factity and fitst-pro's of some your forthese tnato-maint,\n",
            "But would dreughing notrunts\n",
            "And your bloody, whom\n",
            "Is my slain you. O, evought.\n",
            "\n",
            "CORIOLA:\n",
            "Butfollieves\n",
            "God the kneem to their dered some to might.\n",
            "Your Ladys thomself his Kingdeed our chart:\n",
            "But not this drange it.\n",
            "\n",
            "FROMIOL:\n",
            "What sciturning!\n",
            "What may's orby prince, sir, too your goest.\n",
            "Why hath, Dercet it.\n",
            "\n",
            "ThiHNEY:\n",
            "He lespain, Illst I say, yetre say shall us mong father you has him-neals\n",
            "That you diars gity artsweds, broth off,\n",
            "But noble reves. Pretures not, as extress which lists slainst me you;\n",
            "Suchince, dry is is me.\n",
            "\n",
            "POMPEY:\n",
            "Nirst, tell quesence on provouds,\n",
            "I'll sittermmed tommne while the\n",
            "that as I how be anide; for you both\n",
            "Yon mantory's but some to dights.\n",
            "\n",
            "KING RICHARD II:\n",
            "No, thou as queeng I agains, that though not,\n",
            "Nortely herse folt I will force the viled nove.\n",
            "\n",
            "CORIOLIO:\n",
            "The bustxy, wlet I recurnt leave\n",
            "Nout Viliace of recond, ventay,\n",
            "But these transurent me in the flend make fit or countrites,\n",
            "Ghe'll to he will langed! So madman:\n",
            "But the's no Murder in now.\n",
            "\n",
            "GLOUCESTER:\n",
            "Ummule as us.\n",
            "\n",
            "CituUKE:\n",
            "O besplucess on these! Come,\n",
            "With the hambed's mear lighty lamss affition my now a friend,\n",
            "'Fare for you she wrefain is expeace flaste.\n",
            "\n",
            "KING RICHARD II:\n",
            "Lo, they nie,\n",
            "You lord, there you mind hath dels in woo forful PRy deviless nursted it.\n",
            "\n",
            "HASTIS:\n",
            "Let make\n",
            "Where not: I bust may partes and good,\n",
            "Wher, they layts thou right, where'erand's aftes.\n",
            "\n",
            "WISICER:\n",
            "My all stake mad\n",
            "Musan\n",
            "WAMBY: loves Warwitto the ment: will for mmodely.\n",
            "\n",
            "MOHNIGONUS:\n",
            "I comet I say our lights himse tonde the cousapting same,\n",
            "What BINGHAw glomany too is me:\n",
            "Go world in this it.\n",
            "\n",
            "NORTHUM:\n",
            "Why barritt of the but have fight untrtulies go togen\n",
            "May whusanty. Chas shall our hosse beaut\n",
            "The honour. They, you\n",
            "art if for\n"
          ]
        }
      ],
      "source": [
        "import torch\n",
        "import torch.nn as nn\n",
        "from torch.nn import functional as F\n",
        "\n",
        "# hyperparameters\n",
        "batch_size = 16 # how many independent sequences will we process in parallel?\n",
        "block_size = 32 # what is the maximum context length for predictions?\n",
        "max_iters = 5000\n",
        "eval_interval = 100\n",
        "learning_rate = 1e-3\n",
        "device = 'mps' if torch.backends.mps.is_available() else 'cpu'\n",
        "eval_iters = 200\n",
        "n_embd = 64\n",
        "n_head = 4\n",
        "n_layer = 4\n",
        "dropout = 0.0\n",
        "# ------------\n",
        "\n",
        "torch.manual_seed(1337)\n",
        "\n",
        "# wget https://raw.githubusercontent.com/karpathy/char-rnn/master/data/tinyshakespeare/input.txt\n",
        "with open('input.txt', 'r', encoding='utf-8') as f:\n",
        "    text = f.read()\n",
        "\n",
        "# here are all the unique characters that occur in this text\n",
        "chars = sorted(list(set(text)))\n",
        "vocab_size = len(chars)\n",
        "# create a mapping from characters to integers\n",
        "stoi = { ch:i for i,ch in enumerate(chars) }\n",
        "itos = { i:ch for i,ch in enumerate(chars) }\n",
        "encode = lambda s: [stoi[c] for c in s] # encoder: take a string, output a list of integers\n",
        "decode = lambda l: ''.join([itos[i] for i in l]) # decoder: take a list of integers, output a string\n",
        "\n",
        "# Train and test splits\n",
        "data = torch.tensor(encode(text), dtype=torch.long)\n",
        "n = int(0.9*len(data)) # first 90% will be train, rest val\n",
        "train_data = data[:n]\n",
        "val_data = data[n:]\n",
        "\n",
        "# data loading\n",
        "def get_batch(split):\n",
        "    # generate a small batch of data of inputs x and targets y\n",
        "    data = train_data if split == 'train' else val_data\n",
        "    ix = torch.randint(len(data) - block_size, (batch_size,))\n",
        "    x = torch.stack([data[i:i+block_size] for i in ix])\n",
        "    y = torch.stack([data[i+1:i+block_size+1] for i in ix])\n",
        "    x, y = x.to(device), y.to(device)\n",
        "    return x, y\n",
        "\n",
        "@torch.no_grad()\n",
        "def estimate_loss():\n",
        "    out = {}\n",
        "    model.eval()\n",
        "    for split in ['train', 'val']:\n",
        "        losses = torch.zeros(eval_iters)\n",
        "        for k in range(eval_iters):\n",
        "            X, Y = get_batch(split)\n",
        "            logits, loss = model(X, Y)\n",
        "            losses[k] = loss.item()\n",
        "        out[split] = losses.mean()\n",
        "    model.train()\n",
        "    return out\n",
        "\n",
        "class Head(nn.Module):\n",
        "    \"\"\" one head of self-attention \"\"\"\n",
        "\n",
        "    def __init__(self, head_size):\n",
        "        super().__init__()\n",
        "        self.key = nn.Linear(n_embd, head_size, bias=False)\n",
        "        self.query = nn.Linear(n_embd, head_size, bias=False)\n",
        "        self.value = nn.Linear(n_embd, head_size, bias=False)\n",
        "        self.register_buffer('tril', torch.tril(torch.ones(block_size, block_size)))\n",
        "\n",
        "        self.dropout = nn.Dropout(dropout)\n",
        "\n",
        "    def forward(self, x):\n",
        "        B,T,C = x.shape\n",
        "        k = self.key(x)   # (B,T,C)\n",
        "        q = self.query(x) # (B,T,C)\n",
        "        # compute attention scores (\"affinities\")\n",
        "        wei = q @ k.transpose(-2,-1) * C**-0.5 # (B, T, C) @ (B, C, T) -> (B, T, T)\n",
        "        wei = wei.masked_fill(self.tril[:T, :T] == 0, float('-inf')) # (B, T, T)\n",
        "        wei = F.softmax(wei, dim=-1) # (B, T, T)\n",
        "        wei = self.dropout(wei)\n",
        "        # perform the weighted aggregation of the values\n",
        "        v = self.value(x) # (B,T,C)\n",
        "        out = wei @ v # (B, T, T) @ (B, T, C) -> (B, T, C)\n",
        "        return out\n",
        "\n",
        "class MultiHeadAttention(nn.Module):\n",
        "    \"\"\" multiple heads of self-attention in parallel \"\"\"\n",
        "\n",
        "    def __init__(self, num_heads, head_size):\n",
        "        super().__init__()\n",
        "        self.heads = nn.ModuleList([Head(head_size) for _ in range(num_heads)])\n",
        "        self.proj = nn.Linear(n_embd, n_embd)\n",
        "        self.dropout = nn.Dropout(dropout)\n",
        "\n",
        "    def forward(self, x):\n",
        "        out = torch.cat([h(x) for h in self.heads], dim=-1)\n",
        "        out = self.dropout(self.proj(out))\n",
        "        return out\n",
        "\n",
        "class FeedFoward(nn.Module):\n",
        "    \"\"\" a simple linear layer followed by a non-linearity \"\"\"\n",
        "\n",
        "    def __init__(self, n_embd):\n",
        "        super().__init__()\n",
        "        self.net = nn.Sequential(\n",
        "            nn.Linear(n_embd, 4 * n_embd),\n",
        "            nn.ReLU(),\n",
        "            nn.Linear(4 * n_embd, n_embd),\n",
        "            nn.Dropout(dropout),\n",
        "        )\n",
        "\n",
        "    def forward(self, x):\n",
        "        return self.net(x)\n",
        "\n",
        "class Block(nn.Module):\n",
        "    \"\"\" Transformer block: communication followed by computation \"\"\"\n",
        "\n",
        "    def __init__(self, n_embd, n_head):\n",
        "        # n_embd: embedding dimension, n_head: the number of heads we'd like\n",
        "        super().__init__()\n",
        "        head_size = n_embd // n_head\n",
        "        self.sa = MultiHeadAttention(n_head, head_size)\n",
        "        self.ffwd = FeedFoward(n_embd)\n",
        "        self.ln1 = nn.LayerNorm(n_embd)\n",
        "        self.ln2 = nn.LayerNorm(n_embd)\n",
        "\n",
        "    def forward(self, x):\n",
        "        x = x + self.sa(self.ln1(x))\n",
        "        x = x + self.ffwd(self.ln2(x))\n",
        "        return x\n",
        "\n",
        "# super simple bigram model\n",
        "class BigramLanguageModel(nn.Module):\n",
        "\n",
        "    def __init__(self):\n",
        "        super().__init__()\n",
        "        # each token directly reads off the logits for the next token from a lookup table\n",
        "        self.token_embedding_table = nn.Embedding(vocab_size, n_embd)\n",
        "        self.position_embedding_table = nn.Embedding(block_size, n_embd)\n",
        "        self.blocks = nn.Sequential(*[Block(n_embd, n_head=n_head) for _ in range(n_layer)])\n",
        "        self.ln_f = nn.LayerNorm(n_embd) # final layer norm\n",
        "        self.lm_head = nn.Linear(n_embd, vocab_size)\n",
        "\n",
        "    def forward(self, idx, targets=None):\n",
        "        B, T = idx.shape\n",
        "\n",
        "        # idx and targets are both (B,T) tensor of integers\n",
        "        tok_emb = self.token_embedding_table(idx) # (B,T,C)\n",
        "        pos_emb = self.position_embedding_table(torch.arange(T, device=device)) # (T,C)\n",
        "        x = tok_emb + pos_emb # (B,T,C)\n",
        "        x = self.blocks(x) # (B,T,C)\n",
        "        x = self.ln_f(x) # (B,T,C)\n",
        "        logits = self.lm_head(x) # (B,T,vocab_size)\n",
        "\n",
        "        if targets is None:\n",
        "            loss = None\n",
        "        else:\n",
        "            B, T, C = logits.shape\n",
        "            logits = logits.view(B*T, C)\n",
        "            targets = targets.view(B*T)\n",
        "            loss = F.cross_entropy(logits, targets)\n",
        "\n",
        "        return logits, loss\n",
        "\n",
        "    def generate(self, idx, max_new_tokens):\n",
        "        # idx is (B, T) array of indices in the current context\n",
        "        for _ in range(max_new_tokens):\n",
        "            # crop idx to the last block_size tokens\n",
        "            idx_cond = idx[:, -block_size:]\n",
        "            # get the predictions\n",
        "            logits, loss = self(idx_cond)\n",
        "            # focus only on the last time step\n",
        "            logits = logits[:, -1, :] # becomes (B, C)\n",
        "            # apply softmax to get probabilities\n",
        "            probs = F.softmax(logits, dim=-1) # (B, C)\n",
        "            # sample from the distribution\n",
        "            idx_next = torch.multinomial(probs, num_samples=1) # (B, 1)\n",
        "            # append sampled index to the running sequence\n",
        "            idx = torch.cat((idx, idx_next), dim=1) # (B, T+1)\n",
        "        return idx\n",
        "\n",
        "model = BigramLanguageModel()\n",
        "m = model.to(device)\n",
        "# print the number of parameters in the model\n",
        "print(sum(p.numel() for p in m.parameters())/1e6, 'M parameters')\n",
        "\n",
        "# create a PyTorch optimizer\n",
        "optimizer = torch.optim.AdamW(model.parameters(), lr=learning_rate)\n",
        "\n",
        "for iter in range(max_iters):\n",
        "\n",
        "    # every once in a while evaluate the loss on train and val sets\n",
        "    if iter % eval_interval == 0 or iter == max_iters - 1:\n",
        "        losses = estimate_loss()\n",
        "        print(f\"step {iter}: train loss {losses['train']:.4f}, val loss {losses['val']:.4f}\")\n",
        "\n",
        "    # sample a batch of data\n",
        "    xb, yb = get_batch('train')\n",
        "\n",
        "    # evaluate the loss\n",
        "    logits, loss = model(xb, yb)\n",
        "    optimizer.zero_grad(set_to_none=True)\n",
        "    loss.backward()\n",
        "    optimizer.step()\n",
        "\n",
        "# generate from the model\n",
        "context = torch.zeros((1, 1), dtype=torch.long, device=device)\n",
        "print(decode(m.generate(context, max_new_tokens=2000)[0].tolist()))\n"
      ]
    },
    {
      "cell_type": "markdown",
      "metadata": {},
      "source": [
        "## Exercises"
      ]
    },
    {
      "cell_type": "markdown",
      "metadata": {},
      "source": [
        "### Exercise 1\n",
        "See code above (version 5) for my implementation of turning multi-head attention into a 'batch'."
      ]
    },
    {
      "cell_type": "markdown",
      "metadata": {},
      "source": [
        "### Exercise 2\n",
        "Train on Beatles lyrics."
      ]
    },
    {
      "cell_type": "code",
      "execution_count": 47,
      "metadata": {
        "id": "fjjvMifYZf7x"
      },
      "outputs": [],
      "source": [
        "# read it in to inspect it\n",
        "with open('beatles.txt', 'r', encoding='utf-8') as f:\n",
        "    lyrics = f.read()"
      ]
    },
    {
      "cell_type": "code",
      "execution_count": 48,
      "metadata": {},
      "outputs": [
        {
          "data": {
            "text/plain": [
              "\"A day in the life\\nI read the news today oh boy\\nAbout a lucky man who made the grade\\nAnd though the news was rather sad\\nWell I just had to laugh\\nI saw the photograph.\\n\\nHe blew his mind out in a car\\nHe didn't notice that the lights had changed\\nA crowd of people stood and stared\\nThey'd seen his face before\\nNobody was really sure\\nIf he was from the House of Lords.\\n\\nI saw a film today oh boy\\nThe English Army had just won the war\\nA crowd of people turned away\\nbut I just had to look\\nHaving read the boo\""
            ]
          },
          "execution_count": 48,
          "metadata": {},
          "output_type": "execute_result"
        }
      ],
      "source": [
        "lyrics[:500]"
      ]
    },
    {
      "cell_type": "code",
      "execution_count": 49,
      "metadata": {},
      "outputs": [
        {
          "name": "stdout",
          "output_type": "stream",
          "text": [
            "\n",
            " !\"#&'(),-./0123456789:;<=>?ABCDEFGHIJKLMNOPQRSTUVWY[]abcdefghijklmnopqrstuvwxyz öü‘\n",
            "85\n"
          ]
        }
      ],
      "source": [
        "chars = sorted(list(set(lyrics)))\n",
        "vocab_size = len(chars)\n",
        "print(''.join(chars))\n",
        "print(vocab_size)"
      ]
    },
    {
      "cell_type": "code",
      "execution_count": 50,
      "metadata": {},
      "outputs": [
        {
          "name": "stdout",
          "output_type": "stream",
          "text": [
            "[62, 63, 63, 1, 74, 62, 59, 72, 59]\n",
            "hii there\n"
          ]
        }
      ],
      "source": [
        "# create a mapping from characters to integers\n",
        "stoi = { ch:i for i,ch in enumerate(chars) }\n",
        "itos = { i:ch for i,ch in enumerate(chars) }\n",
        "encode = lambda s: [stoi[c] for c in s] # encoder: take a string, output a list of integers\n",
        "decode = lambda l: ''.join([itos[i] for i in l]) # decoder: take a list of integers, output a string\n",
        "\n",
        "print(encode(\"hii there\"))\n",
        "print(decode(encode(\"hii there\")))"
      ]
    },
    {
      "cell_type": "code",
      "execution_count": 52,
      "metadata": {},
      "outputs": [
        {
          "name": "stdout",
          "output_type": "stream",
          "text": [
            "torch.Size([173346]) torch.int64\n",
            "tensor([29,  1, 58, 55, 79,  1, 63, 68,  1, 74, 62, 59,  1, 66, 63, 60, 59,  0,\n",
            "        37,  1, 72, 59, 55, 58,  1, 74, 62, 59,  1, 68, 59, 77, 73,  1, 74, 69,\n",
            "        58, 55, 79,  1, 69, 62,  1, 56, 69, 79,  0, 29, 56, 69, 75, 74,  1, 55,\n",
            "         1, 66, 75, 57, 65, 79,  1, 67, 55, 68,  1, 77, 62, 69,  1, 67, 55, 58,\n",
            "        59,  1, 74, 62, 59,  1, 61, 72, 55, 58, 59,  0, 29, 68, 58,  1, 74, 62,\n",
            "        69, 75, 61, 62,  1, 74, 62, 59,  1, 68, 59, 77, 73,  1, 77, 55, 73,  1,\n",
            "        72, 55, 74, 62, 59, 72,  1, 73, 55, 58,  0, 51, 59, 66, 66,  1, 37,  1,\n",
            "        64, 75, 73, 74,  1, 62, 55, 58,  1, 74, 69,  1, 66, 55, 75, 61, 62,  0,\n",
            "        37,  1, 73, 55, 77,  1, 74, 62, 59,  1, 70, 62, 69, 74, 69, 61, 72, 55,\n",
            "        70, 62, 11,  0,  0, 36, 59,  1, 56, 66, 59, 77,  1, 62, 63, 73,  1, 67,\n",
            "        63, 68, 58,  1, 69, 75, 74,  1, 63, 68,  1, 55,  1, 57, 55, 72,  0, 36,\n",
            "        59,  1, 58, 63, 58, 68,  6, 74,  1, 68, 69, 74, 63, 57, 59,  1, 74, 62,\n",
            "        55, 74,  1, 74, 62, 59,  1, 66, 63, 61, 62, 74, 73,  1, 62, 55, 58,  1,\n",
            "        57, 62, 55, 68, 61, 59, 58,  0, 29,  1, 57, 72, 69, 77, 58,  1, 69, 60,\n",
            "         1, 70, 59, 69, 70, 66, 59,  1, 73, 74, 69, 69, 58,  1, 55, 68, 58,  1,\n",
            "        73, 74, 55, 72, 59, 58,  0, 48, 62, 59, 79,  6, 58,  1, 73, 59, 59, 68,\n",
            "         1, 62, 63, 73,  1, 60, 55, 57, 59,  1, 56, 59, 60, 69, 72, 59,  0, 42,\n",
            "        69, 56, 69, 58, 79,  1, 77, 55, 73,  1, 72, 59, 55, 66, 66, 79,  1, 73,\n",
            "        75, 72, 59,  0, 37, 60,  1, 62, 59,  1, 77, 55, 73,  1, 60, 72, 69, 67,\n",
            "         1, 74, 62, 59,  1, 36, 69, 75, 73, 59,  1, 69, 60,  1, 40, 69, 72, 58,\n",
            "        73, 11,  0,  0, 37,  1, 73, 55, 77,  1, 55,  1, 60, 63, 66, 67,  1, 74,\n",
            "        69, 58, 55, 79,  1, 69, 62,  1, 56, 69, 79,  0, 48, 62, 59,  1, 33, 68,\n",
            "        61, 66, 63, 73, 62,  1, 29, 72, 67, 79,  1, 62, 55, 58,  1, 64, 75, 73,\n",
            "        74,  1, 77, 69, 68,  1, 74, 62, 59,  1, 77, 55, 72,  0, 29,  1, 57, 72,\n",
            "        69, 77, 58,  1, 69, 60,  1, 70, 59, 69, 70, 66, 59,  1, 74, 75, 72, 68,\n",
            "        59, 58,  1, 55, 77, 55, 79,  0, 56, 75, 74,  1, 37,  1, 64, 75, 73, 74,\n",
            "         1, 62, 55, 58,  1, 74, 69,  1, 66, 69, 69, 65,  0, 36, 55, 76, 63, 68,\n",
            "        61,  1, 72, 59, 55, 58,  1, 74, 62, 59,  1, 56, 69, 69, 65, 11,  0,  0,\n",
            "        37,  6, 58,  1, 66, 69, 76, 59,  1, 74, 69,  1, 74, 75, 72, 68,  1, 79,\n",
            "        69, 75,  1, 69, 68,  0,  0,  3, 51, 69, 65, 59,  1, 75, 70,  9,  1, 60,\n",
            "        59, 66, 66,  1, 69, 75, 74,  1, 69, 60,  1, 56, 59, 58,  9,  3,  0, 32,\n",
            "        72, 55, 61, 61, 59, 58,  1, 55,  1, 57, 69, 67, 56,  1, 55, 57, 72, 69,\n",
            "        73, 73,  1, 67, 79,  1, 62, 59, 55, 58,  0,  3, 34, 69, 75, 68, 58,  1,\n",
            "        67, 79,  1, 77, 55, 79,  1, 58, 69, 77, 68, 73, 74, 55, 63, 72, 73,  1,\n",
            "        55, 68, 58,  1, 58, 72, 55, 68, 65,  1, 55,  1, 57, 75, 70,  9,  3,  0,\n",
            "        29, 68, 58,  1, 66, 69, 69, 65, 63, 68, 61,  1, 75, 70,  1, 37,  1, 68,\n",
            "        69, 74, 63, 57, 59, 58,  1, 37,  1, 77, 55, 73,  1, 66, 55, 74, 59, 11,\n",
            "         0, 34, 69, 75, 68, 58,  1, 67, 79,  1, 57, 69, 55, 74,  1, 55, 68, 58,\n",
            "         1, 61, 72, 55, 56, 56, 59, 58,  1, 67, 79,  1, 62, 55, 74,  0, 41, 55,\n",
            "        58, 59,  1, 74, 62, 59,  1, 56, 75, 73,  1, 63, 68,  1, 73, 59, 57, 69,\n",
            "        68, 58, 73,  1, 60, 66, 55, 74,  0,  3, 34, 69, 75, 68, 58,  1, 67, 79,\n",
            "         1, 77, 55, 79,  1, 75, 70, 73, 74, 55, 63, 72, 73,  1, 55, 68, 58,  1,\n",
            "        62, 55, 58,  1, 55,  1, 73, 67, 69, 65, 59,  9,  3,  0, 47, 69, 67, 59,\n",
            "        56, 69, 58, 79,  1, 73, 70, 69, 65, 59,  1, 55, 68, 58,  1, 37,  1, 77,\n",
            "        59, 68, 74,  1, 63, 68, 74, 69,  1, 55,  1, 58, 72, 59, 55, 67,  0,  0,\n",
            "        37,  1, 72, 59, 55, 58,  1, 74, 62, 59,  1, 68, 59, 77, 73,  1, 74, 69,\n",
            "        58, 55, 79,  1, 69, 62,  1, 56, 69, 79,  0,  3, 34, 69, 75, 72,  1, 74,\n",
            "        62, 69, 75, 73, 55, 68, 58,  1, 62, 69, 66, 59, 73,  1, 63, 68,  1, 30,\n",
            "        66, 55, 57, 65, 56, 75, 72, 68,  9,  1, 40, 55, 68, 57, 55, 73, 62, 63,\n",
            "        72, 59,  3,  0, 29, 68, 58,  1, 74, 62, 69, 75, 61, 62,  1, 74, 62, 59,\n",
            "         1, 62, 69, 66, 59, 73,  1, 77, 59, 72, 59,  1, 72, 55, 74, 62, 59, 72,\n",
            "         1, 73, 67, 55, 66, 66,  0, 48, 62, 59, 79,  1, 62, 55, 58,  1, 74, 69,\n",
            "         1, 57, 69, 75, 68, 74,  1, 74, 62, 59, 67,  1, 55, 66, 66,  0, 42, 69,\n",
            "        77,  1, 74, 62, 59, 79,  1, 65, 68, 69, 77,  1, 62, 69, 77,  1, 67, 55,\n",
            "        68, 79,  1, 62, 69, 66, 59, 73,  1, 63, 74,  1, 74, 55, 65, 59, 73,  1,\n",
            "        74, 69,  1, 60, 63, 66, 66,  1, 74, 62])\n"
          ]
        }
      ],
      "source": [
        "data = torch.tensor(encode(lyrics), dtype=torch.long)\n",
        "print(data.shape, data.dtype)\n",
        "print(data[:1000]) # the 1000 characters we looked at earier will to the GPT look like this"
      ]
    },
    {
      "cell_type": "code",
      "execution_count": 53,
      "metadata": {},
      "outputs": [],
      "source": [
        "n = int(0.9*len(data)) # first 90% will be train, rest val\n",
        "train_data = data[:n]\n",
        "val_data = data[n:]"
      ]
    },
    {
      "cell_type": "code",
      "execution_count": 54,
      "metadata": {},
      "outputs": [
        {
          "name": "stdout",
          "output_type": "stream",
          "text": [
            "0.212309 M parameters\n",
            "step 0: train loss 4.6290, val loss 4.6222\n",
            "step 100: train loss 2.5576, val loss 2.5250\n",
            "step 200: train loss 2.3962, val loss 2.3519\n",
            "step 300: train loss 2.2812, val loss 2.2525\n",
            "step 400: train loss 2.2085, val loss 2.1914\n",
            "step 500: train loss 2.1497, val loss 2.1275\n",
            "step 600: train loss 2.0905, val loss 2.0536\n",
            "step 700: train loss 2.0098, val loss 2.0095\n",
            "step 800: train loss 1.9747, val loss 1.9585\n",
            "step 900: train loss 1.9185, val loss 1.9167\n",
            "step 1000: train loss 1.8950, val loss 1.8918\n",
            "step 1100: train loss 1.8361, val loss 1.8617\n",
            "step 1200: train loss 1.8148, val loss 1.8314\n",
            "step 1300: train loss 1.7940, val loss 1.8203\n",
            "step 1400: train loss 1.7649, val loss 1.7878\n",
            "step 1500: train loss 1.7409, val loss 1.7746\n",
            "step 1600: train loss 1.7232, val loss 1.7722\n",
            "step 1700: train loss 1.7015, val loss 1.7415\n",
            "step 1800: train loss 1.6660, val loss 1.7185\n",
            "step 1900: train loss 1.6557, val loss 1.7200\n",
            "step 2000: train loss 1.6497, val loss 1.7179\n",
            "step 2100: train loss 1.6129, val loss 1.7132\n",
            "step 2200: train loss 1.6169, val loss 1.7209\n",
            "step 2300: train loss 1.5932, val loss 1.7011\n",
            "step 2400: train loss 1.5667, val loss 1.7044\n",
            "step 2500: train loss 1.5506, val loss 1.6849\n",
            "step 2600: train loss 1.5587, val loss 1.6956\n",
            "step 2700: train loss 1.5541, val loss 1.6624\n",
            "step 2800: train loss 1.5172, val loss 1.6649\n",
            "step 2900: train loss 1.5061, val loss 1.6914\n",
            "step 3000: train loss 1.5066, val loss 1.6835\n",
            "step 3100: train loss 1.5008, val loss 1.6601\n",
            "step 3200: train loss 1.4855, val loss 1.6736\n",
            "step 3300: train loss 1.4879, val loss 1.6899\n",
            "step 3400: train loss 1.4616, val loss 1.6712\n",
            "step 3500: train loss 1.4416, val loss 1.6571\n",
            "step 3600: train loss 1.4365, val loss 1.6527\n",
            "step 3700: train loss 1.4237, val loss 1.6338\n",
            "step 3800: train loss 1.4277, val loss 1.6617\n",
            "step 3900: train loss 1.4276, val loss 1.6639\n",
            "step 4000: train loss 1.4086, val loss 1.6502\n",
            "step 4100: train loss 1.3961, val loss 1.6676\n",
            "step 4200: train loss 1.3932, val loss 1.6484\n",
            "step 4300: train loss 1.3786, val loss 1.6311\n",
            "step 4400: train loss 1.3638, val loss 1.6605\n",
            "step 4500: train loss 1.3603, val loss 1.6362\n",
            "step 4600: train loss 1.3568, val loss 1.6456\n",
            "step 4700: train loss 1.3603, val loss 1.6453\n",
            "step 4800: train loss 1.3523, val loss 1.6774\n",
            "step 4900: train loss 1.3308, val loss 1.6505\n",
            "step 4999: train loss 1.3226, val loss 1.6470\n",
            "\n",
            "\n",
            "I love you take words it way\n",
            "\n",
            "If you stop and down when you toodayday\n",
            "They're going to make me grine giving\n",
            "Come waitle for you every find time\n",
            "I'm have got she did an I am around we're happear Prup ancre light\n",
            "You are the lifes\n",
            "And I care you ried return\n",
            "She thing out\n",
            "If your looking at the earters!\n",
            "\n",
            "\"And cll I'm gonna, my sing night ano prectures thake hear\n",
            "We their me telgets anshother lacked with anough\n",
            "The do go way - and away atretty pay\n",
            "Some poserserchall from and of feether that love another\n",
            "\n",
            "\"Foun thout another should you gotta didn clut of love\n",
            "The way her withould be.\n",
            "\n",
            "The love you to make me down if and \n",
            "Fained the grings in perthersent\n",
            "Though the Yeah dead \n",
            "Someday the is really I've only child when Fine, I had got soment Sg.....\"\n",
            "\"Ev'rybig and looking\n",
            "\"(Has my break away,\"\n",
            "She kit anoon from the girl.\n",
            "\"Moonly cameday, Mr.-gaed, a la only girl\"\n",
            "When I sighf you?\n",
            "\"And shind, all I may it the showee, long if you\"\n",
            "Good Oh you ome hard is my\n",
            "K. . Busfue life that love is the ground in the shade,\"\n",
            "Back to hear fuch you see you saw you're this go dearn\n",
            "\"I onlist to once for eyes the gartathat ant.\n",
            "\n",
            "Love you\n",
            "You know it's worked of plains\n",
            "And you it.\n",
            "\n",
            "\"Oh, love you do.\"\n",
            "\"I know the children she would or I do hear you want\n",
            "Till the say he love beht I'm trave yeah)\n",
            "\"If yeah, I do take there at Lone,\"\n",
            "I'll for blue Non though\n",
            "It me the kins in the mystorieng ands trawberry cated day everyone\"\n",
            "Now who of take you know you\n",
            "Oooh mught about down and somebound of the Barquamon and song\n",
            "Do tEed Docked to the eart way\n",
            "When I'll say fool the eggment to gimp. \n",
            "\"Clime mind I show I the such, said Door Listen twist anow,\"\n",
            "Be tearling Dleave me aloned people has you\n",
            "\"Anoon roctulionce you do see with you\n",
            "The love thi same get brown Mr.\"\n",
            "Rolly Rackoin' romemal the mocket]\n",
            "And and of the place withor on are a fight then\n",
            "Save whened I have another know turnit about\n",
            "You take her heave the I jove all the night.\n",
            "\n",
            "Sudie you the right that whide.\n",
            "\"That she said soonn to dance an m\n"
          ]
        }
      ],
      "source": [
        "model = BigramLanguageModel()\n",
        "m = model.to(device)\n",
        "# print the number of parameters in the model\n",
        "print(sum(p.numel() for p in m.parameters())/1e6, 'M parameters')\n",
        "\n",
        "# create a PyTorch optimizer\n",
        "optimizer = torch.optim.AdamW(model.parameters(), lr=learning_rate)\n",
        "\n",
        "for iter in range(max_iters):\n",
        "\n",
        "    # every once in a while evaluate the loss on train and val sets\n",
        "    if iter % eval_interval == 0 or iter == max_iters - 1:\n",
        "        losses = estimate_loss()\n",
        "        print(f\"step {iter}: train loss {losses['train']:.4f}, val loss {losses['val']:.4f}\")\n",
        "\n",
        "    # sample a batch of data\n",
        "    xb, yb = get_batch('train')\n",
        "\n",
        "    # evaluate the loss\n",
        "    logits, loss = model(xb, yb)\n",
        "    optimizer.zero_grad(set_to_none=True)\n",
        "    loss.backward()\n",
        "    optimizer.step()\n",
        "\n",
        "# generate from the model\n",
        "context = torch.zeros((1, 1), dtype=torch.long, device=device)\n",
        "print(decode(m.generate(context, max_new_tokens=2000)[0].tolist()))"
      ]
    },
    {
      "cell_type": "markdown",
      "metadata": {},
      "source": [
        "### Exercise 3\n",
        "Pretrain on very large dataset, then finetune on smaller Shakespeare dataset. (SKIPPED)"
      ]
    },
    {
      "cell_type": "markdown",
      "metadata": {},
      "source": [
        "### Exercise 4- Implement a paper that improves Transformers\n",
        "Does it improve the performance of the model?\n",
        "\n",
        "I'm implementing [Gaussian Adaptive Attention](https://arxiv.org/pdf/2401.11143). Here are some key changes:\n",
        "1. Computing sample statistics:\n",
        "Sample mean (μ) and sample variance (σ²) are calculated for each input feature vector.\n",
        "2. Adjusting the mean:\n",
        "The sample mean is adjusted with a learnable offset (δ) to get ψ.\n",
        "3. Normalizing the input:\n",
        "The input is normalized using the adjusted mean and sample variance.\n",
        "4. Computing attention weights:\n",
        "A Gaussian function is applied to compute attention weights, using the normalized input and a learnable scaled variance (ξ).\n",
        "5. Multi-head configuration:\n",
        "The process is applied independently across different attention heads.\n",
        "6. Final output:\n",
        "The output is computed as an element-wise multiplication of input features and Gaussian attention weights."
      ]
    },
    {
      "cell_type": "code",
      "execution_count": 58,
      "metadata": {},
      "outputs": [
        {
          "data": {
            "text/plain": [
              "torch.Size([4, 8, 64])"
            ]
          },
          "execution_count": 58,
          "metadata": {},
          "output_type": "execute_result"
        }
      ],
      "source": [
        "torch.manual_seed(1337)\n",
        "\n",
        "B,T,C = 4,8,64 # batch, time, channels\n",
        "x = torch.randn(B,T,C)\n",
        "\n",
        "n_head = 4\n",
        "n_embd = 64\n",
        "\n",
        "# delta is a learnable offset on sample mean mu_bar to get Psi\n",
        "delta = nn.Parameter(torch.zeros(n_head, n_embd//n_head))\n",
        "# xi is a learnable scaled variance to compute attention weights\n",
        "xi = nn.Parameter(torch.ones(n_head, n_embd//n_head))\n",
        "\n",
        "# reshape x for multihead processing\n",
        "x = x.view(B, T, n_head, n_embd//n_head)\n",
        "\n",
        "# compute sample mean and variance\n",
        "mu = x.mean(dim=1, keepdim=True) # (B, 1, n_head, n_embd//n_head)\n",
        "var = x.var(dim=1, keepdim=True) # (B, 1, n_head, n_embd//n_head)\n",
        "\n",
        "# adjust mean with learnable offset\n",
        "psi = mu + delta.view(1, 1, n_head, n_embd//n_head) # (B, 1, n_head, n_embd//n_head)\n",
        "\n",
        "# normalise input\n",
        "x_norm = (x - psi) / torch.sqrt(var + 1e-5) # (B, T, n_head, n_embd//n_head)\n",
        "\n",
        "# compute Gaussian attention weights\n",
        "att_weights = torch.exp(-x_norm**2 / (2*xi.view(1, 1, n_head, n_embd//n_head))) # (B, T, n_head, n_embd//n_head)\n",
        "\n",
        "# apply attention weights \n",
        "output = x * att_weights\n",
        "output.shape\n",
        "\n",
        "# reshape input to original shape\n",
        "output = output.view(B, T, C)\n",
        "output.shape"
      ]
    },
    {
      "cell_type": "markdown",
      "metadata": {},
      "source": [
        "Now that we got individual code block to run, let's try adding this improvement to our model and test."
      ]
    },
    {
      "cell_type": "code",
      "execution_count": 66,
      "metadata": {},
      "outputs": [],
      "source": [
        "# hyperparameters\n",
        "batch_size = 16 # how many independent sequences will we process in parallel?\n",
        "block_size = 32 # what is the maximum context length for predictions?\n",
        "max_iters = 5000\n",
        "eval_interval = 100\n",
        "learning_rate = 1e-3\n",
        "device = 'mps' if torch.backends.mps.is_available() else 'cpu'\n",
        "eval_iters = 200\n",
        "n_embd = 64\n",
        "n_head = 4\n",
        "n_layer = 4\n",
        "dropout = 0.0"
      ]
    },
    {
      "cell_type": "code",
      "execution_count": 81,
      "metadata": {},
      "outputs": [],
      "source": [
        "class GAAM(nn.Module):\n",
        "    def __init__(self, head_size):\n",
        "        super().__init__()\n",
        "        self.delta = nn.Parameter(torch.zeros(n_head, head_size))\n",
        "        self.xi = nn.Parameter(torch.ones(n_head, head_size))\n",
        "\n",
        "    def forward(self, x):\n",
        "        B,T,C = x.shape\n",
        "        x = x.view(B, T, n_head, head_size)\n",
        "\n",
        "        # compute sample mean and variance\n",
        "        mu = x.mean(dim=1, keepdim=True) # (B, 1, n_head, n_embd//n_head)\n",
        "        var = x.var(dim=1, keepdim=True) # (B, 1, n_head, n_embd//n_head)\n",
        "\n",
        "        # adjust mean with learnable offset\n",
        "        psi = mu + self.delta.view(1, 1, n_head, head_size) # (B, 1, n_head, n_embd//n_head)\n",
        "\n",
        "        # normalise input\n",
        "        x_norm = (x - psi) / torch.sqrt(var + 1e-5) # (B, T, n_head, n_embd//n_head)\n",
        "\n",
        "        # compute Gaussian attention weights\n",
        "        att_weights = torch.exp(-x_norm**2 / (2*self.xi.view(1, 1, n_head, head_size))) # (B, T, n_head, n_embd//n_head)\n",
        "\n",
        "        # apply attention weights\n",
        "        output = x * att_weights\n",
        "\n",
        "        # reshape output to original shape\n",
        "        output = output.view(B, T, C)\n",
        "\n",
        "        return output"
      ]
    },
    {
      "cell_type": "code",
      "execution_count": 82,
      "metadata": {},
      "outputs": [],
      "source": [
        "class MultiHeadGAAM(nn.Module):\n",
        "    def __init__(self, num_heads, head_size):\n",
        "        super().__init__()\n",
        "        self.heads = nn.ModuleList([GAAM(head_size) for _ in range(num_heads)])\n",
        "        self.proj = nn.Linear(n_embd*4, n_embd)\n",
        "\n",
        "    def forward(self, x):\n",
        "        out = torch.cat([h(x) for h in self.heads], dim=-1)\n",
        "        out = self.proj(out)\n",
        "\n",
        "        return out"
      ]
    },
    {
      "cell_type": "code",
      "execution_count": 130,
      "metadata": {},
      "outputs": [
        {
          "name": "stdout",
          "output_type": "stream",
          "text": [
            "0.211777 M parameters\n",
            "step 0: train loss 4.3502, val loss 4.3549\n",
            "step 100: train loss 2.6440, val loss 2.6613\n",
            "step 200: train loss 2.5271, val loss 2.5467\n",
            "step 300: train loss 2.4839, val loss 2.4900\n",
            "step 400: train loss 2.4436, val loss 2.4513\n",
            "step 500: train loss 2.4092, val loss 2.4517\n",
            "step 600: train loss 2.3930, val loss 2.4042\n",
            "step 700: train loss 2.3553, val loss 2.3903\n",
            "step 800: train loss 2.3436, val loss 2.3613\n",
            "step 900: train loss 2.3093, val loss 2.3376\n",
            "step 1000: train loss 2.2985, val loss 2.3204\n",
            "step 1100: train loss 2.2695, val loss 2.3079\n",
            "step 1200: train loss 2.2458, val loss 2.2780\n",
            "step 1300: train loss 2.2402, val loss 2.2713\n",
            "step 1400: train loss 2.2191, val loss 2.2414\n",
            "step 1500: train loss 2.1991, val loss 2.2232\n",
            "step 1600: train loss 2.1772, val loss 2.2017\n",
            "step 1700: train loss 2.1675, val loss 2.1934\n",
            "step 1800: train loss 2.1595, val loss 2.1818\n",
            "step 1900: train loss 2.1448, val loss 2.1695\n",
            "step 2000: train loss 2.1285, val loss 2.1647\n",
            "step 2100: train loss 2.1239, val loss 2.1512\n",
            "step 2200: train loss 2.1142, val loss 2.1544\n",
            "step 2300: train loss 2.0893, val loss 2.1223\n",
            "step 2400: train loss 2.0851, val loss 2.1176\n",
            "step 2500: train loss 2.0770, val loss 2.1236\n",
            "step 2600: train loss 2.0618, val loss 2.1054\n",
            "step 2700: train loss 2.0706, val loss 2.1011\n",
            "step 2800: train loss 2.0541, val loss 2.0926\n",
            "step 2900: train loss 2.0358, val loss 2.0797\n",
            "step 3000: train loss 2.0362, val loss 2.0664\n",
            "step 3100: train loss 2.0137, val loss 2.0629\n",
            "step 3200: train loss 2.0055, val loss 2.0512\n",
            "step 3300: train loss 1.9979, val loss 2.0495\n",
            "step 3400: train loss 2.0007, val loss 2.0421\n",
            "step 3500: train loss 2.0042, val loss 2.0361\n",
            "step 3600: train loss 1.9916, val loss 2.0340\n",
            "step 3700: train loss 1.9844, val loss 2.0318\n",
            "step 3800: train loss 1.9714, val loss 2.0133\n",
            "step 3900: train loss 1.9677, val loss 1.9990\n",
            "step 4000: train loss 1.9625, val loss 2.0184\n",
            "step 4100: train loss 1.9456, val loss 1.9938\n",
            "step 4200: train loss 1.9418, val loss 1.9763\n",
            "step 4300: train loss 1.9322, val loss 1.9805\n",
            "step 4400: train loss 1.9193, val loss 1.9685\n",
            "step 4500: train loss 1.9154, val loss 1.9747\n",
            "step 4600: train loss 1.9045, val loss 1.9600\n",
            "step 4700: train loss 1.9058, val loss 1.9633\n",
            "step 4800: train loss 1.8927, val loss 1.9509\n",
            "step 4900: train loss 1.8881, val loss 1.9315\n",
            "step 4999: train loss 1.8761, val loss 1.9312\n",
            "\n",
            "\n",
            "\n",
            "\n",
            "\n",
            "\n",
            "-erererarer arearrarrerrr arricke tour jurthakes.\n",
            "Four EOR:\n",
            "SUS:\n",
            "Ts courerk he.\n",
            "Therspices hanirs hodathathin m atadiame mye s w; I mame, be,\n",
            "Sheme, he t,\n",
            "Wetl beeee,\n",
            "To.\n",
            "SS:\n",
            "TEThe-jel-he'l me Ge d meacee heeleieede e meeseeeenome stheeeediveeeeeeee: be eeeees t\n",
            "Thas.\n",
            "Theee d wh'Thare od g leuin!\n",
            "Tow Sisth tho adot he ge wet go d be s m ald oo d anes ie Haghochoyove onoowinoo coooooooooooood ymoo ood alooooo! d coeifo?\n",
            "'soinods ole io: sonoiro, on; menoow mo ch ss mithin m\n",
            "Whin mons'sof mas me s whelar te Ifomeaseant Vlatha gh woono ll wosooo h Pod e ves.\n",
            "Tr Thaver:\n",
            "Totr allowhe shis sithale bnild wes tllll hull\n",
            "Vid selllllllllllllllllllllllllllllllllllll n oehthellllllllllllllllllllllllllllllal:\n",
            "Ishy, on ave r hirer,\n",
            "\n",
            "Hars, fathosit;\n",
            "RY d.\n",
            "\n",
            "Ty; hy ay, SSTo irea .\n",
            "Tho s s.\n",
            "Tathoreveerde th has sod thieme m s thisoure orss stit\n",
            "icle:\n",
            "Hus.\n",
            "Loucu plaret icomicha moo hin m han ccale foy ldiseding y dive t ons iror yrd  har ldodicenoworgod deand cood dano odddddodddddddddddddddddddddddddddddddddddddddddddddddddddddddddddddddddddddddddora haddoverdddddddddddddddddddddddddddirddddddddddddd le o thth at me t sthimn ld s pom thay the chur; bure a thirthaghery whrevathaprir de tas thangrian sumse s ek,\n",
            "Wis ngas minss as t nomne w imom tsseous m.\n",
            "\n",
            "\n",
            "\n",
            "Fowem r or nomen ad hou h:\n",
            "\n",
            "\n",
            "\n",
            "\n",
            "R:\n",
            "\n",
            "E:\n",
            "\n",
            "Go me lead so.\n",
            "\n",
            "sbe e; anshacechariathde, see, I ad le set hishn ie odie lre mita hawime me hand s whanthome my cor domohure d anond ndr chocachouechothewha pr-an tscch se th\n",
            "His ochiry'le\n",
            "Rin .\n",
            "KIRISee l; hin ke,\n",
            "HAR:\n",
            "I: le I kioun:\n",
            "I:\n",
            "LLA:\n",
            "INULA:\n",
            "Shike, wa ame Dulis.\n",
            "I e, m mind aveaithise?\n",
            "Wheswhay: l Wsas S:\n",
            "Tass llencill ilelles be aris millich ms m harimss, fum sstomred ce s h t'sold d I'dissse o fot' g myeyldoum sethan; ak, y omot w wn yorllck he ig\n",
            "Go hill.\n",
            "KISin nd.\n",
            "KINGol w apothe, welingon, cepighom n.\n",
            "End ow be oththe:\n",
            "pketha penowhe hak, w ack, tspstl, ppeloreitherinp chiwhithor sorusur joad.\n",
            "Fol\n",
            "\n",
            "\n",
            "\n",
            "\n",
            "A:\n",
            "\n",
            "Shoos:\n",
            "\n",
            "Gosho me mbe EO:\n",
            "OUSUSUS:\n",
            "SO:\n",
            "Gomprdere hom.\n",
            "USE:\n",
            "SAUETETime ami\n"
          ]
        }
      ],
      "source": [
        "class NewBlock(nn.Module):\n",
        "    \"\"\" Transformer block: communication followed by computation \"\"\"\n",
        "\n",
        "    def __init__(self, n_embd, n_head):\n",
        "        # n_embd: embedding dimension, n_head: the number of heads we'd like\n",
        "        super().__init__()\n",
        "        head_size = n_embd // n_head\n",
        "        self.sa = MultiHeadGAAM(n_head, head_size)\n",
        "        self.ffwd = FeedFoward(n_embd)\n",
        "        self.ln1 = nn.LayerNorm(n_embd)\n",
        "        self.ln2 = nn.LayerNorm(n_embd)\n",
        "\n",
        "    def forward(self, x):\n",
        "        x = x + self.sa(self.ln1(x))\n",
        "        x = x + self.ffwd(self.ln2(x))\n",
        "        return x\n",
        "\n",
        "# super simple bigram model\n",
        "class NewBigramLanguageModel(nn.Module):\n",
        "\n",
        "    def __init__(self):\n",
        "        super().__init__()\n",
        "        # each token directly reads off the logits for the next token from a lookup table\n",
        "        self.token_embedding_table = nn.Embedding(vocab_size, n_embd)\n",
        "        self.position_embedding_table = nn.Embedding(block_size, n_embd)\n",
        "        self.blocks = nn.Sequential(*[NewBlock(n_embd, n_head=n_head) for _ in range(n_layer)])\n",
        "        self.ln_f = nn.LayerNorm(n_embd) # final layer norm\n",
        "        self.lm_head = nn.Linear(n_embd, vocab_size)\n",
        "\n",
        "    def forward(self, idx, targets=None):\n",
        "        B, T = idx.shape\n",
        "\n",
        "        # idx and targets are both (B,T) tensor of integers\n",
        "        tok_emb = self.token_embedding_table(idx) # (B,T,C)\n",
        "        pos_emb = self.position_embedding_table(torch.arange(T, device=device)) # (T,C)\n",
        "        x = tok_emb + pos_emb # (B,T,C)\n",
        "        x = self.blocks(x) # (B,T,C)\n",
        "        x = self.ln_f(x) # (B,T,C)\n",
        "        logits = self.lm_head(x) # (B,T,vocab_size)\n",
        "\n",
        "        if targets is None:\n",
        "            loss = None\n",
        "        else:\n",
        "            B, T, C = logits.shape\n",
        "            logits = logits.view(B*T, C)\n",
        "            targets = targets.view(B*T)\n",
        "            loss = F.cross_entropy(logits, targets)\n",
        "\n",
        "        return logits, loss\n",
        "\n",
        "    def generate(self, idx, max_new_tokens):\n",
        "        # idx is (B, T) array of indices in the current context\n",
        "        for _ in range(max_new_tokens):\n",
        "            # crop idx to the last block_size tokens\n",
        "            idx_cond = idx[:, -block_size:]\n",
        "            # get the predictions\n",
        "            logits, loss = self(idx_cond)\n",
        "            # focus only on the last time step\n",
        "            logits = logits[:, -1, :] # becomes (B, C)\n",
        "            # apply softmax to get probabilities\n",
        "            probs = F.softmax(logits, dim=-1) # (B, C)\n",
        "            # sample from the distribution\n",
        "            idx_next = torch.multinomial(probs, num_samples=1) # (B, 1)\n",
        "            # append sampled index to the running sequence\n",
        "            idx = torch.cat((idx, idx_next), dim=1) # (B, T+1)\n",
        "        return idx\n",
        "\n",
        "model = NewBigramLanguageModel()\n",
        "m = model.to(device)\n",
        "# print the number of parameters in the model\n",
        "print(sum(p.numel() for p in m.parameters())/1e6, 'M parameters')\n",
        "\n",
        "# create a PyTorch optimizer\n",
        "optimizer = torch.optim.AdamW(model.parameters(), lr=learning_rate)\n",
        "\n",
        "for iter in range(max_iters):\n",
        "\n",
        "    # every once in a while evaluate the loss on train and val sets\n",
        "    if iter % eval_interval == 0 or iter == max_iters - 1:\n",
        "        losses = estimate_loss()\n",
        "        print(f\"step {iter}: train loss {losses['train']:.4f}, val loss {losses['val']:.4f}\")\n",
        "\n",
        "    # sample a batch of data\n",
        "    xb, yb = get_batch('train')\n",
        "\n",
        "    # evaluate the loss\n",
        "    logits, loss = model(xb, yb)\n",
        "    optimizer.zero_grad(set_to_none=True)\n",
        "    loss.backward()\n",
        "    optimizer.step()\n",
        "\n",
        "# generate from the model\n",
        "context = torch.zeros((1, 1), dtype=torch.long, device=device)\n",
        "print(decode(m.generate(context, max_new_tokens=2000)[0].tolist()))"
      ]
    },
    {
      "cell_type": "markdown",
      "metadata": {},
      "source": [
        "- Original attention mechanism: train loss 1.6667, val loss 1.8237\n",
        "- Gaussian attention mechanism: train loss 1.8761, val loss 1.9312\n",
        "\n",
        "The original attention mechanism still performs better, in terms of both train/val loss and also the samples produced."
      ]
    },
    {
      "cell_type": "markdown",
      "metadata": {},
      "source": []
    }
  ],
  "metadata": {
    "colab": {
      "provenance": []
    },
    "kernelspec": {
      "display_name": "Python 3",
      "name": "python3"
    },
    "language_info": {
      "codemirror_mode": {
        "name": "ipython",
        "version": 3
      },
      "file_extension": ".py",
      "mimetype": "text/x-python",
      "name": "python",
      "nbconvert_exporter": "python",
      "pygments_lexer": "ipython3",
      "version": "3.12.5"
    }
  },
  "nbformat": 4,
  "nbformat_minor": 0
}
